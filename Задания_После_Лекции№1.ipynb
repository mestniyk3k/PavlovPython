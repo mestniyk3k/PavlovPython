{
 "cells": [
  {
   "cell_type": "markdown",
   "metadata": {
    "toc": true
   },
   "source": [
    "<h1>Table of Contents<span class=\"tocSkip\"></span></h1>\n",
    "<div class=\"toc\"><ul class=\"toc-item\"><li><span><a href=\"#Тема-1.-Введение-в-программирование-на-языке-Python\" data-toc-modified-id=\"Тема-1.-Введение-в-программирование-на-языке-Python-1\"><span class=\"toc-item-num\">1&nbsp;&nbsp;</span>Тема 1. Введение в программирование на языке Python</a></span></li><li><span><a href=\"#1.-Выбор-рабочей-среды-программирования\" data-toc-modified-id=\"1.-Выбор-рабочей-среды-программирования-2\"><span class=\"toc-item-num\">2&nbsp;&nbsp;</span>1. Выбор рабочей среды программирования</a></span><ul class=\"toc-item\"><li><span><a href=\"#1.1.-Юпитер-Ноутбук\" data-toc-modified-id=\"1.1.-Юпитер-Ноутбук-2.1\"><span class=\"toc-item-num\">2.1&nbsp;&nbsp;</span>1.1. Юпитер Ноутбук</a></span></li><li><span><a href=\"#1.2.-Ячейки-Юпитер-Ноутбук\" data-toc-modified-id=\"1.2.-Ячейки-Юпитер-Ноутбук-2.2\"><span class=\"toc-item-num\">2.2&nbsp;&nbsp;</span>1.2. Ячейки Юпитер Ноутбук</a></span></li></ul></li><li><span><a href=\"#2.-Основные-синтаксические-конструкции-Python\" data-toc-modified-id=\"2.-Основные-синтаксические-конструкции-Python-3\"><span class=\"toc-item-num\">3&nbsp;&nbsp;</span>2. Основные синтаксические конструкции Python</a></span><ul class=\"toc-item\"><li><span><a href=\"#2.1.-Арифметические-операторы-+,--,-/,-//,-%,-**\" data-toc-modified-id=\"2.1.-Арифметические-операторы-+,--,-/,-//,-%,-**-3.1\"><span class=\"toc-item-num\">3.1&nbsp;&nbsp;</span>2.1. Арифметические операторы +, -, /, //, %, **</a></span><ul class=\"toc-item\"><li><span><a href=\"#2.1.1.-Какого-типа-результат?\" data-toc-modified-id=\"2.1.1.-Какого-типа-результат?-3.1.1\"><span class=\"toc-item-num\">3.1.1&nbsp;&nbsp;</span>2.1.1. Какого типа результат?</a></span></li></ul></li><li><span><a href=\"#2.2.-Если-стандартных-арифметических-операторов-не-хватает\" data-toc-modified-id=\"2.2.-Если-стандартных-арифметических-операторов-не-хватает-3.2\"><span class=\"toc-item-num\">3.2&nbsp;&nbsp;</span>2.2. Если стандартных арифметических операторов не хватает</a></span></li><li><span><a href=\"#2.3.-Операторы-присваивания\" data-toc-modified-id=\"2.3.-Операторы-присваивания-3.3\"><span class=\"toc-item-num\">3.3&nbsp;&nbsp;</span>2.3. Операторы присваивания</a></span></li><li><span><a href=\"#2.4.Типы-данных-int,-float,-str,-bool\" data-toc-modified-id=\"2.4.Типы-данных-int,-float,-str,-bool-3.4\"><span class=\"toc-item-num\">3.4&nbsp;&nbsp;</span>2.4.Типы данных <em>int, float, str, bool</em></a></span><ul class=\"toc-item\"><li><span><a href=\"#2.4.1.-Данные-целочисленного-типа\" data-toc-modified-id=\"2.4.1.-Данные-целочисленного-типа-3.4.1\"><span class=\"toc-item-num\">3.4.1&nbsp;&nbsp;</span>2.4.1. Данные целочисленного типа</a></span></li><li><span><a href=\"#2.4.2.-Данные-вещественного-типа\" data-toc-modified-id=\"2.4.2.-Данные-вещественного-типа-3.4.2\"><span class=\"toc-item-num\">3.4.2&nbsp;&nbsp;</span>2.4.2. Данные вещественного типа</a></span></li><li><span><a href=\"#2.4.3.-Строки\" data-toc-modified-id=\"2.4.3.-Строки-3.4.3\"><span class=\"toc-item-num\">3.4.3&nbsp;&nbsp;</span>2.4.3. Строки</a></span></li><li><span><a href=\"#2.4.4.-Данные-логического-типа\" data-toc-modified-id=\"2.4.4.-Данные-логического-типа-3.4.4\"><span class=\"toc-item-num\">3.4.4&nbsp;&nbsp;</span>2.4.4. Данные логического типа</a></span></li><li><span><a href=\"#2.4.5.-Функция-type()\" data-toc-modified-id=\"2.4.5.-Функция-type()-3.4.5\"><span class=\"toc-item-num\">3.4.5&nbsp;&nbsp;</span>2.4.5. Функция <em>type()</em></a></span></li><li><span><a href=\"#2.4.6.-Приведение-типов\" data-toc-modified-id=\"2.4.6.-Приведение-типов-3.4.6\"><span class=\"toc-item-num\">3.4.6&nbsp;&nbsp;</span>2.4.6. Приведение типов</a></span></li><li><span><a href=\"#2.4.7.-Оценка-значений-с-помощью-функции-bool\" data-toc-modified-id=\"2.4.7.-Оценка-значений-с-помощью-функции-bool-3.4.7\"><span class=\"toc-item-num\">3.4.7&nbsp;&nbsp;</span>2.4.7. Оценка значений с помощью функции <em>bool</em></a></span></li><li><span><a href=\"#2.4.8.-Функция-len()\" data-toc-modified-id=\"2.4.8.-Функция-len()-3.4.8\"><span class=\"toc-item-num\">3.4.8&nbsp;&nbsp;</span>2.4.8. Функция <em>len()</em></a></span></li></ul></li><li><span><a href=\"#2.5.-Операторы-сравнения\" data-toc-modified-id=\"2.5.-Операторы-сравнения-3.5\"><span class=\"toc-item-num\">3.5&nbsp;&nbsp;</span>2.5. Операторы сравнения</a></span></li><li><span><a href=\"#2.6.-Условные-операторы-if---elif---else\" data-toc-modified-id=\"2.6.-Условные-операторы-if---elif---else-3.6\"><span class=\"toc-item-num\">3.6&nbsp;&nbsp;</span>2.6. Условные операторы <em>if - elif - else</em></a></span></li><li><span><a href=\"#2.7.-Логические-операторы-and,-or\" data-toc-modified-id=\"2.7.-Логические-операторы-and,-or-3.7\"><span class=\"toc-item-num\">3.7&nbsp;&nbsp;</span>2.7. Логические операторы <em>and, or</em></a></span></li><li><span><a href=\"#2.8.-Побитовые-операторы\" data-toc-modified-id=\"2.8.-Побитовые-операторы-3.8\"><span class=\"toc-item-num\">3.8&nbsp;&nbsp;</span>2.8. Побитовые операторы</a></span></li></ul></li><li><span><a href=\"#3.-Циклы\" data-toc-modified-id=\"3.-Циклы-4\"><span class=\"toc-item-num\">4&nbsp;&nbsp;</span>3. Циклы</a></span><ul class=\"toc-item\"><li><span><a href=\"#3.1.-Цикл-while\" data-toc-modified-id=\"3.1.-Цикл-while-4.1\"><span class=\"toc-item-num\">4.1&nbsp;&nbsp;</span>3.1. Цикл <em>while</em></a></span></li><li><span><a href=\"#3.2.-Цикл-for\" data-toc-modified-id=\"3.2.-Цикл-for-4.2\"><span class=\"toc-item-num\">4.2&nbsp;&nbsp;</span>3.2. Цикл <em>for</em></a></span></li><li><span><a href=\"#3.3.-Блок-else\" data-toc-modified-id=\"3.3.-Блок-else-4.3\"><span class=\"toc-item-num\">4.3&nbsp;&nbsp;</span>3.3. Блок <em>else</em></a></span></li><li><span><a href=\"#3.4.-Команды-break-и-continue\" data-toc-modified-id=\"3.4.-Команды-break-и-continue-4.4\"><span class=\"toc-item-num\">4.4&nbsp;&nbsp;</span>3.4. Команды <em>break</em> и <em>continue</em></a></span><ul class=\"toc-item\"><li><span><a href=\"#3.4.1.-break\" data-toc-modified-id=\"3.4.1.-break-4.4.1\"><span class=\"toc-item-num\">4.4.1&nbsp;&nbsp;</span>3.4.1. <em>break</em></a></span></li><li><span><a href=\"#3.4.2.-continue\" data-toc-modified-id=\"3.4.2.-continue-4.4.2\"><span class=\"toc-item-num\">4.4.2&nbsp;&nbsp;</span>3.4.2. <em>continue</em></a></span></li></ul></li></ul></li><li><span><a href=\"#4.-Форматированная-строка\" data-toc-modified-id=\"4.-Форматированная-строка-5\"><span class=\"toc-item-num\">5&nbsp;&nbsp;</span>4. Форматированная строка</a></span></li><li><span><a href=\"#Задания\" data-toc-modified-id=\"Задания-6\"><span class=\"toc-item-num\">6&nbsp;&nbsp;</span>Задания</a></span></li></ul></div>"
   ]
  },
  {
   "cell_type": "markdown",
   "metadata": {},
   "source": [
    "\n",
    "# Тема 1. Введение в программирование на языке Python"
   ]
  },
  {
   "cell_type": "markdown",
   "metadata": {},
   "source": [
    "# 1. Выбор рабочей среды программирования\n",
    "Пайтон - один из наиболее популярных языков программирования. Существует множество инструментов для создания кода на языке Пайтон. Можно использовать обычный текстовый редактор, например Notepad++, или сложное программное обеспечение, такое как PyCharm. В нашем курсе мы будем использовать интерактивную среду программирования iPython, реализованную в программном обеспечении Юпитер Ноутбук (Jupyter Notebook)."
   ]
  },
  {
   "cell_type": "markdown",
   "metadata": {},
   "source": [
    "## 1.1. Юпитер Ноутбук\n",
    "\n",
    "Юпитер Ноутбук - это интерактивная среда iPython (http://ipython.org/), использующая технологию \"цикл чтение-оценка-вывод\" (read-evaluate-print-loop REPL).\n",
    "\n",
    "Установка Юпитер Ноутбук\n",
    "https://jupyter.readthedocs.io/en/latest/install/notebook-classic.html\n",
    "\n",
    "Jupyter Notebook входит в пакет программ Анаконда (Anaconda).\n",
    "\n",
    "https://www.anaconda.com/products/individual\n",
    "\n",
    "Кроме Юпитер ноутбук пакет Анаконда содержит и другие приложения для научных вычислений и обработки данных.\n",
    "\n",
    "Порядок установки и запуска интерктивной среды Юпитер ноутбук\n",
    "\n",
    "1. Загрузить Анаконда\n",
    "2. Установить Анаконда\n",
    "3. Запустить Юпитер ноутбук. Для этого использовать команду меню, либо консольную команду\n",
    "\n",
    "    => jupyter notebook"
   ]
  },
  {
   "cell_type": "markdown",
   "metadata": {},
   "source": [
    "## 1.2. Ячейки Юпитер Ноутбук\n",
    "\n",
    "В Юпитер Ноутбук применяются следующие типы ячеек:\n",
    "- кода программы;\n",
    "- форматированного текста;\n",
    "- необработанного содержимого.\n",
    "\n",
    "В нашем курсе ячейки для необработанного содержимого не используются. Ячейки кода мы будем использовать для ввода и исполнения кода программы. Ячейки форматированного текста используются для пояснений, оформления, иллюстраций."
   ]
  },
  {
   "cell_type": "markdown",
   "metadata": {},
   "source": [
    "# 2. Основные синтаксические конструкции Python\n",
    "## 2.1. Арифметические операторы +, -, /, //, %, **"
   ]
  },
  {
   "cell_type": "code",
   "execution_count": null,
   "metadata": {},
   "outputs": [],
   "source": [
    "print(2+3) # Сложение\n",
    "\n",
    "print(2-7) # Вычитание\n",
    "\n",
    "print(11*7) # Умножение\n",
    "\n",
    "print(6/3) # Деление\n",
    "\n",
    "print(9//4) # Целочисленное деление\n",
    "\n",
    "print(9%4) # Деление по модулю\n",
    "\n",
    "print(2**3) # Возведение в степень\n",
    "\n",
    "print(9**(1/2)) # Вычисление корня\n",
    "\n",
    "print(abs(-13)) # Модуль числа"
   ]
  },
  {
   "cell_type": "markdown",
   "metadata": {},
   "source": [
    "Пример. Найти значение выражения $$ 8^{5}\\cdot \\sqrt{36} $$"
   ]
  },
  {
   "cell_type": "code",
   "execution_count": null,
   "metadata": {},
   "outputs": [],
   "source": [
    "# Оператор возведения в степень ** имеет высший приоритет по сравнению с оператором умножения *\n",
    "# Не обязательно использовать print(), если команда в ячейке одна.\n",
    "8**5*36**(1/2)"
   ]
  },
  {
   "cell_type": "markdown",
   "metadata": {},
   "source": [
    "<u>Примеры</u> использования операторов /, //, %."
   ]
  },
  {
   "cell_type": "code",
   "execution_count": null,
   "metadata": {
    "scrolled": true
   },
   "outputs": [],
   "source": [
    "print(\"23/9 = \", 23/9)\n",
    "print(\"23//9 =\", 23//9)\n",
    "print(\"23%9 =\", 23%9)\n",
    "print(\"-23%9 =\", -23%9)"
   ]
  },
  {
   "cell_type": "code",
   "execution_count": 1,
   "metadata": {},
   "outputs": [
    {
     "name": "stdout",
     "output_type": "stream",
     "text": [
      "-23%9 = 4\n"
     ]
    }
   ],
   "source": [
    "print(\"-23%9 =\", -23%9)"
   ]
  },
  {
   "cell_type": "markdown",
   "metadata": {},
   "source": [
    "<u>Пример.</u> Вычислить сумму цифр трехзначного натурального числа."
   ]
  },
  {
   "cell_type": "code",
   "execution_count": 8,
   "metadata": {},
   "outputs": [
    {
     "name": "stdout",
     "output_type": "stream",
     "text": [
      "Введите трехзначное натуральное число 358\n",
      "8+5+3=16\n"
     ]
    }
   ],
   "source": [
    "d=int(input(\"Введите трехзначное натуральное число \"))\n",
    "a=d%10\n",
    "b=d//10%10\n",
    "c=d//10//10%10\n",
    "print(f\"{a}+{b}+{c}={a+b+c}\")"
   ]
  },
  {
   "cell_type": "markdown",
   "metadata": {},
   "source": [
    "### 2.1.1. Какого типа результат? \n",
    "Какого типа результат применения арифметического оператора? Это можно узнать с помощью функции *type()*."
   ]
  },
  {
   "cell_type": "code",
   "execution_count": null,
   "metadata": {},
   "outputs": [],
   "source": [
    "print(type(2+3))\n",
    "print(type(11*7))\n",
    "print(type(23/9))\n",
    "print(type(-23%9))\n",
    "print(type(9**(1/2)))"
   ]
  },
  {
   "cell_type": "code",
   "execution_count": 2,
   "metadata": {},
   "outputs": [
    {
     "name": "stdout",
     "output_type": "stream",
     "text": [
      "<class 'int'>\n"
     ]
    }
   ],
   "source": [
    "print(type(2+3))"
   ]
  },
  {
   "cell_type": "markdown",
   "metadata": {},
   "source": [
    "Мы получили результаты целого и вещественного типов.\n",
    "\n",
    "## 2.2. Если стандартных арифметических операторов не хватает\n",
    "\n",
    "Если необходимо выполнить операцию, отсутствующую среди стандартных, воспользуйтесь модулем *math*. Этот модуль содержит часто используемые маетматические функции и константы:\n",
    "\n",
    "- math.sin()\n",
    "- math.cos()\n",
    "- math.log()\n",
    "- math.pi\n",
    "- math.e\n",
    "\n",
    "и другие.\n",
    "\n",
    "<u> Пример</u> Вычислим значения выражений:\n",
    "$$sin(0)$$\n",
    "$$sin(\\frac{3\\pi}{2})$$\n",
    "$$log{_2}{16}$$"
   ]
  },
  {
   "cell_type": "code",
   "execution_count": 3,
   "metadata": {},
   "outputs": [
    {
     "name": "stdout",
     "output_type": "stream",
     "text": [
      "0.0\n",
      "-1.0\n",
      "4.0\n"
     ]
    }
   ],
   "source": [
    "import math\n",
    "\n",
    "print(math.sin(0))\n",
    "print(math.sin(3*math.pi/2))\n",
    "print(math.log(16, 2))"
   ]
  },
  {
   "cell_type": "markdown",
   "metadata": {},
   "source": [
    "## 2.3. Операторы присваивания"
   ]
  },
  {
   "cell_type": "markdown",
   "metadata": {},
   "source": [
    "Оператор = присваивает значение правого операнда левому."
   ]
  },
  {
   "cell_type": "code",
   "execution_count": null,
   "metadata": {},
   "outputs": [],
   "source": [
    "a = 5\n",
    "b = 10\n",
    "c, d = 21, 22\n",
    "student_name = 'Василий'\n",
    "group_1_name = 'БИ22-12'\n",
    "group_2_name = 'БИ22-13'"
   ]
  },
  {
   "cell_type": "markdown",
   "metadata": {},
   "source": [
    "С переменными можно выполнять математические операции. Результат можно присваивать новой переменной."
   ]
  },
  {
   "cell_type": "code",
   "execution_count": 4,
   "metadata": {},
   "outputs": [
    {
     "name": "stdout",
     "output_type": "stream",
     "text": [
      "5 10 21 22 15 0.7142857142857143 105\n"
     ]
    }
   ],
   "source": [
    "a,b,c,d = 5,10,21,22\n",
    "e = a + b\n",
    "f = (a + b) / c\n",
    "g = a * c\n",
    "print(a, b, c, d, e, f, g)"
   ]
  },
  {
   "cell_type": "markdown",
   "metadata": {},
   "source": [
    "Оператор += прибавляет значение правого операнда к левому и присваивает эту сумму левому операнду"
   ]
  },
  {
   "cell_type": "code",
   "execution_count": 5,
   "metadata": {},
   "outputs": [
    {
     "name": "stdout",
     "output_type": "stream",
     "text": [
      "4\n"
     ]
    }
   ],
   "source": [
    "f = 1\n",
    "f += 3\n",
    "print(f)"
   ]
  },
  {
   "cell_type": "markdown",
   "metadata": {},
   "source": [
    "Строки также можно складывать"
   ]
  },
  {
   "cell_type": "code",
   "execution_count": 9,
   "metadata": {},
   "outputs": [
    {
     "ename": "NameError",
     "evalue": "name 'student_name' is not defined",
     "output_type": "error",
     "traceback": [
      "\u001b[0;31m---------------------------------------------------------------------------\u001b[0m",
      "\u001b[0;31mNameError\u001b[0m                                 Traceback (most recent call last)",
      "Cell \u001b[0;32mIn[9], line 1\u001b[0m\n\u001b[0;32m----> 1\u001b[0m p\u001b[38;5;241m=\u001b[39m\u001b[38;5;124m'\u001b[39m\u001b[38;5;124mСтудент \u001b[39m\u001b[38;5;124m'\u001b[39m\u001b[38;5;241m+\u001b[39mstudent_name\u001b[38;5;241m+\u001b[39m\u001b[38;5;124m'\u001b[39m\u001b[38;5;124m из группы \u001b[39m\u001b[38;5;124m'\u001b[39m\n\u001b[1;32m      2\u001b[0m p\u001b[38;5;241m+\u001b[39m\u001b[38;5;241m=\u001b[39mgroup_1_name\n\u001b[1;32m      3\u001b[0m student_name \u001b[38;5;241m=\u001b[39m \u001b[38;5;124m\"\u001b[39m\u001b[38;5;124mRoma\u001b[39m\u001b[38;5;124m\"\u001b[39m\n",
      "\u001b[0;31mNameError\u001b[0m: name 'student_name' is not defined"
     ]
    }
   ],
   "source": [
    "p='Студент '+student_name+' из группы '\n",
    "p+=group_1_name\n",
    "p"
   ]
  },
  {
   "cell_type": "markdown",
   "metadata": {},
   "source": [
    "Правила наименования переменных\n",
    "\n",
    "- имена переменных не должны повторять уже встроенные в Python имена, например, print, str, int и т. д.;\n",
    "- имена переменных могут содержать только буквы, цифры и нижнее подчёркивание;\n",
    "- имена переменных не должны начинаться с цифры;\n",
    "- желательно, чтобы имена переменных выражали суть переменной и не были слишком длинными."
   ]
  },
  {
   "cell_type": "markdown",
   "metadata": {},
   "source": [
    "\n",
    "## 2.4.Типы данных *int, float, str, bool*\n",
    "\n",
    "### 2.4.1. Данные целочисленного типа\n",
    "\n",
    "Пусть в классе 20 студентов. Создадим переменную *student_count* и передадим ей это значение."
   ]
  },
  {
   "cell_type": "code",
   "execution_count": null,
   "metadata": {
    "scrolled": true
   },
   "outputs": [],
   "source": [
    "student_count = 20 # Это целое число или int\n",
    "print(type(student_count))"
   ]
  },
  {
   "cell_type": "markdown",
   "metadata": {},
   "source": [
    "### 2.4.2. Данные вещественного типа\n",
    "\n",
    "Теперь измерим температуру в комнате. Пусть она составляет 20.4 градуса."
   ]
  },
  {
   "cell_type": "code",
   "execution_count": null,
   "metadata": {},
   "outputs": [],
   "source": [
    "room_t = 20.4 # Это вещественное число или float"
   ]
  },
  {
   "cell_type": "markdown",
   "metadata": {},
   "source": [
    "### 2.4.3. Строки"
   ]
  },
  {
   "cell_type": "code",
   "execution_count": 10,
   "metadata": {},
   "outputs": [
    {
     "ename": "NameError",
     "evalue": "name 'student_name' is not defined",
     "output_type": "error",
     "traceback": [
      "\u001b[0;31m---------------------------------------------------------------------------\u001b[0m",
      "\u001b[0;31mNameError\u001b[0m                                 Traceback (most recent call last)",
      "Cell \u001b[0;32mIn[10], line 1\u001b[0m\n\u001b[0;32m----> 1\u001b[0m \u001b[38;5;124m'\u001b[39m\u001b[38;5;124mСтудент \u001b[39m\u001b[38;5;124m'\u001b[39m \u001b[38;5;241m+\u001b[39m student_name \u001b[38;5;241m+\u001b[39m \u001b[38;5;124m'\u001b[39m\u001b[38;5;124m из группы \u001b[39m\u001b[38;5;124m'\u001b[39m \u001b[38;5;241m+\u001b[39m group_2_name\n",
      "\u001b[0;31mNameError\u001b[0m: name 'student_name' is not defined"
     ]
    }
   ],
   "source": [
    "'Студент ' + student_name + ' из группы ' + group_2_name"
   ]
  },
  {
   "cell_type": "markdown",
   "metadata": {},
   "source": [
    "Строковые переменные можно умножать на число"
   ]
  },
  {
   "cell_type": "code",
   "execution_count": 11,
   "metadata": {
    "scrolled": false
   },
   "outputs": [
    {
     "data": {
      "text/plain": [
       "'@fa.ru@fa.ru@fa.ru@fa.ru@fa.ru@fa.ru@fa.ru@fa.ru'"
      ]
     },
     "execution_count": 11,
     "metadata": {},
     "output_type": "execute_result"
    }
   ],
   "source": [
    "'@fa.ru'*8"
   ]
  },
  {
   "cell_type": "markdown",
   "metadata": {},
   "source": [
    "Каждому символу строки сопоставлен номер в кодировке Юникод. Чтобы узнать код символа, используем функцию *ord()*."
   ]
  },
  {
   "cell_type": "code",
   "execution_count": null,
   "metadata": {},
   "outputs": [],
   "source": [
    "ord('@')"
   ]
  },
  {
   "cell_type": "markdown",
   "metadata": {},
   "source": [
    "Функция *chr()* позволяет узнать символ по его коду."
   ]
  },
  {
   "cell_type": "code",
   "execution_count": 12,
   "metadata": {},
   "outputs": [
    {
     "data": {
      "text/plain": [
       "('$', '@', '€', '₽', '$')"
      ]
     },
     "execution_count": 12,
     "metadata": {},
     "output_type": "execute_result"
    }
   ],
   "source": [
    "chr(36), chr(64), chr(8364), chr(8381), chr(0b100100)"
   ]
  },
  {
   "cell_type": "markdown",
   "metadata": {},
   "source": [
    "### 2.4.4. Данные логического типа"
   ]
  },
  {
   "cell_type": "code",
   "execution_count": 13,
   "metadata": {},
   "outputs": [
    {
     "name": "stdout",
     "output_type": "stream",
     "text": [
      "True False True False\n"
     ]
    }
   ],
   "source": [
    "A = True\n",
    "B = False\n",
    "X = A or B\n",
    "Y = A and B\n",
    "print(A, B, X, Y)"
   ]
  },
  {
   "cell_type": "markdown",
   "metadata": {},
   "source": [
    "### 2.4.5. Функция *type()*\n",
    "\n",
    "Целому числу соответствует тип *int*, вещественному числу *float*, а строке *str*. Понять, к какому типу относятся данные помогает функция *type()*."
   ]
  },
  {
   "cell_type": "code",
   "execution_count": 14,
   "metadata": {},
   "outputs": [
    {
     "ename": "NameError",
     "evalue": "name 'student_count' is not defined",
     "output_type": "error",
     "traceback": [
      "\u001b[0;31m---------------------------------------------------------------------------\u001b[0m",
      "\u001b[0;31mNameError\u001b[0m                                 Traceback (most recent call last)",
      "Cell \u001b[0;32mIn[14], line 1\u001b[0m\n\u001b[0;32m----> 1\u001b[0m \u001b[38;5;28mprint\u001b[39m(\u001b[38;5;28mtype\u001b[39m(student_count))\n\u001b[1;32m      2\u001b[0m \u001b[38;5;28mprint\u001b[39m(\u001b[38;5;28mtype\u001b[39m(student_name))\n\u001b[1;32m      3\u001b[0m \u001b[38;5;28mprint\u001b[39m(\u001b[38;5;28mtype\u001b[39m(X))\n",
      "\u001b[0;31mNameError\u001b[0m: name 'student_count' is not defined"
     ]
    }
   ],
   "source": [
    "print(type(student_count))\n",
    "print(type(student_name))\n",
    "print(type(X))"
   ]
  },
  {
   "cell_type": "markdown",
   "metadata": {},
   "source": [
    "Если указать десятичную часть числа, то переменная будет вещественного типа, даже если десятичная часть равна нулю."
   ]
  },
  {
   "cell_type": "code",
   "execution_count": null,
   "metadata": {},
   "outputs": [],
   "source": [
    "i = 25.0\n",
    "print(type(i))"
   ]
  },
  {
   "cell_type": "markdown",
   "metadata": {},
   "source": [
    "Важно\n",
    "\n",
    "- если хотя бы одна из переменных принадлежит к типу *float*, результат вычисления получит тип *float*;\n",
    "- при операции деления результат всегда *float*, даже если оба числа *int*."
   ]
  },
  {
   "cell_type": "code",
   "execution_count": null,
   "metadata": {},
   "outputs": [],
   "source": [
    "type(student_count/2) # Целое число делим на целое, получаем вещественное."
   ]
  },
  {
   "cell_type": "markdown",
   "metadata": {},
   "source": [
    "### 2.4.6. Приведение типов\n",
    "\n",
    "Чтобы перевести переменную из одного типа в другой, можно воспользоваться соответствующими функциями *str(), int(), float()*."
   ]
  },
  {
   "cell_type": "code",
   "execution_count": null,
   "metadata": {},
   "outputs": [],
   "source": [
    "student_count = 20\n",
    "x = str(student_count) # аргумент функции - число, значение - строка.\n",
    "x, type(x)"
   ]
  },
  {
   "cell_type": "code",
   "execution_count": null,
   "metadata": {},
   "outputs": [],
   "source": [
    "y = int(x) # аргумент функции - строка, значение - число.\n",
    "y, type(y)"
   ]
  },
  {
   "cell_type": "code",
   "execution_count": null,
   "metadata": {},
   "outputs": [],
   "source": [
    "z = int(5.5) # аргумент функции - вещественное число, значение - целое число.\n",
    "print(z, type(z))"
   ]
  },
  {
   "cell_type": "code",
   "execution_count": null,
   "metadata": {},
   "outputs": [],
   "source": [
    "w = float(7) # аргумент функции - целое число, значение - вещественное число.\n",
    "print(w, type(w))"
   ]
  },
  {
   "cell_type": "markdown",
   "metadata": {},
   "source": [
    "Результат выполнения функции *type()* можно сравнить с одним из типов данных (*int, float, str*), чтобы установить, принадлежит ли эта переменная указанному типу."
   ]
  },
  {
   "cell_type": "code",
   "execution_count": null,
   "metadata": {},
   "outputs": [],
   "source": [
    "number=5\n",
    "print(type(number)==int)\n",
    "print(type(number)==str)\n",
    "print(type(number)==float)"
   ]
  },
  {
   "cell_type": "markdown",
   "metadata": {},
   "source": [
    "### 2.4.7. Оценка значений с помощью функции *bool*\n",
    "\n",
    "Функция *bool()* возвращает истину, если значение аргумента не пусто."
   ]
  },
  {
   "cell_type": "code",
   "execution_count": null,
   "metadata": {},
   "outputs": [],
   "source": [
    "print(bool(\"Астрахань\"))\n",
    "print(bool(55))\n",
    "print(bool(\"\")) # Пустая строка\n",
    "print(bool(None)) # Пустота"
   ]
  },
  {
   "cell_type": "markdown",
   "metadata": {},
   "source": [
    "### 2.4.8. Функция *len()*\n",
    "\n",
    "С помощью функции *len()* можно узнать длину слова, или даже целого предложения"
   ]
  },
  {
   "cell_type": "code",
   "execution_count": null,
   "metadata": {},
   "outputs": [],
   "source": [
    "print(len('@fa.ru'*8))\n",
    "\n",
    "new_message = 'Пусть этот день дарит тебе только положительные эмоции!'\n",
    "len(new_message)"
   ]
  },
  {
   "cell_type": "markdown",
   "metadata": {},
   "source": [
    "## 2.5. Операторы сравнения\n",
    "\n",
    "Для сравнения объектов между собой используются операторы:\n",
    "```\n",
    "    > больше;\n",
    "    >= больше или равно;\n",
    "    < меньше;\n",
    "    <= меньше или равно;\n",
    "    != не равно;\n",
    "    == равно;\n",
    "    is один и тот же объект\n",
    "    is not разные объекты\n",
    "```\n",
    "\n",
    "Пусть переменная *a* обозначает число 10."
   ]
  },
  {
   "cell_type": "code",
   "execution_count": null,
   "metadata": {},
   "outputs": [],
   "source": [
    "a = 10"
   ]
  },
  {
   "cell_type": "markdown",
   "metadata": {},
   "source": [
    "Напишем программу, которая проверяет, действительно ли переменная *a* равно 10."
   ]
  },
  {
   "cell_type": "code",
   "execution_count": null,
   "metadata": {},
   "outputs": [],
   "source": [
    "print(a==10)"
   ]
  },
  {
   "cell_type": "markdown",
   "metadata": {},
   "source": [
    "Обратите внимание: для сравнения числа и переменной *a* использовано двойное равно `==`. Проверим теперь, является ли число в переменной *a* четным. Если да, то остаток от деления числа на два равен нулю. "
   ]
  },
  {
   "cell_type": "code",
   "execution_count": null,
   "metadata": {},
   "outputs": [],
   "source": [
    "print(a%2==0)"
   ]
  },
  {
   "cell_type": "markdown",
   "metadata": {},
   "source": [
    "Ещё пример на сравнение значений двух переменных."
   ]
  },
  {
   "cell_type": "code",
   "execution_count": null,
   "metadata": {},
   "outputs": [],
   "source": [
    "b = 25\n",
    "print(a>b)"
   ]
  },
  {
   "cell_type": "markdown",
   "metadata": {},
   "source": [
    "Результат сравнения можно присвоить переменной."
   ]
  },
  {
   "cell_type": "code",
   "execution_count": null,
   "metadata": {},
   "outputs": [],
   "source": [
    "L = a > b\n",
    "print(L, type(L))"
   ]
  },
  {
   "cell_type": "markdown",
   "metadata": {},
   "source": [
    "## 2.6. Условные операторы _if - elif - else_\n",
    "\n",
    "После оператора *if* следует условие, результатом проверки которого является *Истина* или *Ложь*. Если результатом является *Истина*, то выполняются следующие за оператором *if* строки кода."
   ]
  },
  {
   "cell_type": "code",
   "execution_count": null,
   "metadata": {},
   "outputs": [],
   "source": [
    "if a % 2 == 0:\n",
    "  print('Число чётное')"
   ]
  },
  {
   "cell_type": "markdown",
   "metadata": {},
   "source": [
    "Условный оператор может содержать блоки *elif* и *else*. Блоков *elif* может быть больше одного.\n",
    "\n",
    "Важно!<br>\n",
    "- После операторов _if, elif_ и _else_ ставят двоеточие, следующая строка начинается с отступа."
   ]
  },
  {
   "cell_type": "code",
   "execution_count": null,
   "metadata": {},
   "outputs": [],
   "source": [
    "a, b, c = 11, 71, False\n",
    "\n",
    "if a % 2 == 0:\n",
    "    print('Число a чётное')\n",
    "elif b % 2 == 0:\n",
    "    print('Число b чётное, число a нечётное')\n",
    "elif c == 1000:\n",
    "    print('Тысяча')\n",
    "else:\n",
    "    print('Ни одно условие не выполнено.')"
   ]
  },
  {
   "cell_type": "markdown",
   "metadata": {},
   "source": [
    "<u>Пример</u>. Пусть имеется выборка, для которой определены нижняя и верхняя граница допустимых значений. Все, что выходит за пределы границ считается выбросом. Проверим, является ли число *a* выбросом."
   ]
  },
  {
   "cell_type": "code",
   "execution_count": null,
   "metadata": {},
   "outputs": [],
   "source": [
    "a = 11\n",
    "top, bottom = 10, 2\n",
    "\n",
    "if a > top:\n",
    "    print('Выброс вверх')\n",
    "elif a < bottom:\n",
    "    print('Выброс вниз')\n",
    "else:\n",
    "    print('Значение в пределах установленных границ')"
   ]
  },
  {
   "cell_type": "markdown",
   "metadata": {},
   "source": [
    "<u>Пример</u>. Проверим, содержится ли твердый знак в слове \"СловоCТвердымЗнаком\". Сделать это поможет оператор членства _in_."
   ]
  },
  {
   "cell_type": "code",
   "execution_count": 9,
   "metadata": {},
   "outputs": [
    {
     "name": "stdout",
     "output_type": "stream",
     "text": [
      "Есть твердый знак\n"
     ]
    }
   ],
   "source": [
    "word='СловоCТвердымЗнакомъ'\n",
    "\n",
    "if 'ъ' in word:\n",
    "  print('Есть твердый знак')\n",
    "else:\n",
    "  print('Нет твердого знака')"
   ]
  },
  {
   "cell_type": "markdown",
   "metadata": {},
   "source": [
    "Часто для проверки наличия символов в строке требуется изменить вид строки, чтобы все буквы проверяемой строки были строчными или ПРОПИСНЫМИ. Такую задачу помогают выполнить методы _lower(), upper()_."
   ]
  },
  {
   "cell_type": "code",
   "execution_count": null,
   "metadata": {},
   "outputs": [],
   "source": [
    "word = 'аВтоэЛеКТрОСтеКлопОдЪёМНики'\n",
    "word.lower()"
   ]
  },
  {
   "cell_type": "markdown",
   "metadata": {},
   "source": [
    "_lower()_ и _upper()_ часто используют для поиска подстроки в строке независимо от регистра букв."
   ]
  },
  {
   "cell_type": "code",
   "execution_count": null,
   "metadata": {},
   "outputs": [],
   "source": [
    "phrase = 'Аз есмь Царь'\n",
    "letter_to_find = 'аз'\n",
    "\n",
    "if letter_to_find in phrase.lower():\n",
    "  print('Есть подстрока')\n",
    "else:\n",
    "  print('Такой подстроки нет')"
   ]
  },
  {
   "cell_type": "markdown",
   "metadata": {},
   "source": [
    "## 2.7. Логические операторы _and, or_"
   ]
  },
  {
   "cell_type": "markdown",
   "metadata": {},
   "source": [
    "Логические операторы _and_ и _or_ используются, если несколько условий надо проверить одновременно. Пусть имеется инвестиционный портфель, который характеризуется параметрами доходности _r_, волатильности _sigma_ и коэффициентом _beta_. При определенных значениях этих параметров инвестиция считается надежной."
   ]
  },
  {
   "cell_type": "code",
   "execution_count": null,
   "metadata": {
    "scrolled": true
   },
   "outputs": [],
   "source": [
    "r = 25; sigma = 12; beta = 1\n",
    "if r >= 25 and sigma <= 12 or beta > 2.5:\n",
    "  print('Надежная инвестиция')\n",
    "else:\n",
    "  print('Плохой портфель')"
   ]
  },
  {
   "cell_type": "markdown",
   "metadata": {},
   "source": [
    "## 2.8. Побитовые операторы\n"
   ]
  },
  {
   "cell_type": "markdown",
   "metadata": {},
   "source": [
    "<table align=left>\n",
    "    <tr><th style=\"text-align:left\">Оператор\n",
    "        <th style=\"text-align:left\">Имя\n",
    "        <th style=\"text-align:left\">Описание</tr>\n",
    "    <tr><td style=\"text-align:left\">&#38;\n",
    "        <td style=\"text-align:left\">AND\n",
    "        <td style=\"text-align:left\">Устанавливает значение 1, если оба бита 1</tr>\n",
    "    <tr><td td style=\"text-align:left\">&#124;\n",
    "        <td style=\"text-align:left\">OR\n",
    "        <td style=\"text-align:left\">Устанавливает значение 1, если один из двух бит 1</tr>\n",
    "    <tr><td td style=\"text-align:left\">&#94;\n",
    "        <td  style=\"text-align:left\">XOR\n",
    "        <td style=\"text-align:left\">Устанавливает значение 1, если только один из двух бит 1</tr>\n",
    "    <tr><td td style=\"text-align:left\">&#126;\n",
    "        <td style=\"text-align:left\">NOT\n",
    "        <td style=\"text-align:left\">Инвертирует значение всех бит</tr>\n",
    "    <tr><td td style=\"text-align:left\">&lt;&lt;\n",
    "        <td style=\"text-align:left\">Сдвиг влево\n",
    "        <td style=\"text-align:left\">Сдвигает биты влево, добавляя нули справа</tr>\n",
    "    <tr><td td style=\"text-align:left\">&gt;&gt;\n",
    "        <td style=\"text-align:left\">Знаковый сдвиг вправо\n",
    "        <td style=\"text-align:left\">Сдвигает вправо, добавляя слева крайний левый бит</tr>\n",
    "</table>"
   ]
  },
  {
   "cell_type": "markdown",
   "metadata": {},
   "source": [
    "<u> Примеры </u>"
   ]
  },
  {
   "cell_type": "code",
   "execution_count": null,
   "metadata": {},
   "outputs": [],
   "source": [
    "a = 0b101010\n",
    "b = 0b100101\n",
    "\n",
    "print(a, b)\n",
    "print(a&b)\n",
    "print(a|b)\n",
    "print(a^b)\n",
    "print(~a, ~b)"
   ]
  },
  {
   "cell_type": "markdown",
   "metadata": {},
   "source": [
    "# 3. Циклы\n",
    "\n",
    "В Пайтон используются циклы *while* и *for*.\n",
    "\n",
    "## 3.1. Цикл *while*\n",
    "\n",
    "Цикл *while* («пока») выполняется, пока проверяемое условие истинно. Условие записывается до тела цикла и проверяется до выполнения тела цикла.\n",
    "\n",
    "Предположим, мы положили 1 руб. в банк под 6% годовых. Через сколько лет на счету станет 2 руб.? Используем цикл *while* и будем продлять договор вклада каждый год, пока сумма на счёте не превысит 2 руб."
   ]
  },
  {
   "cell_type": "code",
   "execution_count": 15,
   "metadata": {},
   "outputs": [
    {
     "name": "stdout",
     "output_type": "stream",
     "text": [
      "Два рубля через 12 лет.\n"
     ]
    }
   ],
   "source": [
    "vklad = 1\n",
    "god = 0\n",
    "p = 1.06\n",
    "\n",
    "while vklad <= 2:\n",
    "    vklad *= p\n",
    "    god += 1\n",
    "\n",
    "print('Два рубля через', god, 'лет.')"
   ]
  },
  {
   "cell_type": "markdown",
   "metadata": {},
   "source": [
    "## 3.2. Цикл *for*\n",
    "\n",
    "<img src=\"../Img/for.png\">\n",
    "\n",
    "Цикл *for* создан специально для работы с итерируемыми объектами. Например, со строками, так как строка в Пайтон - итерируемый объект."
   ]
  },
  {
   "cell_type": "code",
   "execution_count": 16,
   "metadata": {},
   "outputs": [
    {
     "name": "stdout",
     "output_type": "stream",
     "text": [
      "К\n",
      "р\n",
      "а\n",
      "с\n",
      "н\n",
      "о\n",
      "я\n",
      "р\n",
      "с\n",
      "к\n"
     ]
    }
   ],
   "source": [
    "stroka = 'Красноярск'\n",
    "\n",
    "for x in stroka:\n",
    "    print(x)"
   ]
  },
  {
   "cell_type": "markdown",
   "metadata": {},
   "source": [
    "Добавим счётчик и на каждом шаге цикла будем его увеличивать на единицу, чтобы получить номер буквы в слове."
   ]
  },
  {
   "cell_type": "code",
   "execution_count": null,
   "metadata": {},
   "outputs": [],
   "source": [
    "stroka = 'Красноярск'\n",
    "counter = 0\n",
    "\n",
    "for x in stroka:\n",
    "    counter+=1\n",
    "    print(counter, x)"
   ]
  },
  {
   "cell_type": "markdown",
   "metadata": {},
   "source": [
    "Для упрощения кода цикла *for* со счётчиком можно использовать функцию *enumerate()*."
   ]
  },
  {
   "cell_type": "code",
   "execution_count": null,
   "metadata": {},
   "outputs": [],
   "source": [
    "stroka = 'Красноярск'\n",
    "\n",
    "for counter, x in enumerate(stroka):\n",
    "    print(counter+1, x)"
   ]
  },
  {
   "cell_type": "markdown",
   "metadata": {},
   "source": [
    "Цикл *for* часто используется с функцией *range(start, stop, step)*. Функция *range()* создает последовательность целых чисел в  интервале от начального до конечного значения с шагом *step*. Конечное значение в интервал не входит."
   ]
  },
  {
   "cell_type": "code",
   "execution_count": null,
   "metadata": {},
   "outputs": [],
   "source": [
    "for i in range (1, 20, 5):\n",
    "    print(i)"
   ]
  },
  {
   "cell_type": "markdown",
   "metadata": {},
   "source": [
    "Начальное значение и шаг задавать не обязательно. Тогда начальным значением считается ноль. В следующем примере переменная *number* принимает значения от нуля до четырёх. Необязательный параметр `end=' '` функции *print()* заменяет символ перевода строки на указанный, в данном случае - пробел."
   ]
  },
  {
   "cell_type": "code",
   "execution_count": null,
   "metadata": {},
   "outputs": [],
   "source": [
    "for number in range (5):\n",
    "    print(number*7, end = ' ')"
   ]
  },
  {
   "cell_type": "markdown",
   "metadata": {},
   "source": [
    "Шаг *range()* может быть отрицательным."
   ]
  },
  {
   "cell_type": "code",
   "execution_count": null,
   "metadata": {
    "scrolled": true
   },
   "outputs": [],
   "source": [
    "for number in range (5, 0, -1):\n",
    "    print(number*7, end = ' ')"
   ]
  },
  {
   "cell_type": "markdown",
   "metadata": {},
   "source": [
    "В следующем примере рассчитаем сумму квадратных корней чисел из диапазона чисел от $n_1$ до $n_2$."
   ]
  },
  {
   "cell_type": "code",
   "execution_count": null,
   "metadata": {},
   "outputs": [],
   "source": [
    "n1, n2 = 20, 30\n",
    "\n",
    "square_sum = 0\n",
    "for i in range(n1, n2):\n",
    "    square_sum += i**(1/2)\n",
    "print(round(square_sum, 2)) # Ответ округлим до двух десятичных знаков"
   ]
  },
  {
   "cell_type": "markdown",
   "metadata": {},
   "source": [
    "## 3.3. Блок *else*\n",
    "\n",
    "Циклы *while* и *for* могут содержать часть *else*, в которую управление программой переходит после завершения основного блока цикла."
   ]
  },
  {
   "cell_type": "code",
   "execution_count": 19,
   "metadata": {},
   "outputs": [
    {
     "name": "stdout",
     "output_type": "stream",
     "text": [
      "Распечатать результат? y - Да, n - Нет: y\n",
      "Два рубля через 12 лет.\n"
     ]
    }
   ],
   "source": [
    "vklad = 1\n",
    "god = 0\n",
    "p = 1.06\n",
    "\n",
    "while vklad <= 2:\n",
    "    vklad *= p\n",
    "    god += 1\n",
    "else:\n",
    "    report = input(\"Распечатать результат? y - Да, n - Нет: \")\n",
    "    if report.lower() == \"y\":\n",
    "        print('Два рубля через', god, 'лет.')\n",
    "    else:\n",
    "        print('--')"
   ]
  },
  {
   "cell_type": "markdown",
   "metadata": {},
   "source": [
    "## 3.4. Команды *break* и *continue*\n",
    "\n",
    "### 3.4.1. *break*\n",
    "\n",
    "Цикл может быть прерван по команде *break*, даже если условие цикла продолжает выполняться.\n",
    "\n",
    "<u>Пример</u> Найти положительное число, ближайшее к данному снизу и кратное трём."
   ]
  },
  {
   "cell_type": "code",
   "execution_count": null,
   "metadata": {},
   "outputs": [],
   "source": [
    "number = 55\n",
    "\n",
    "while number > 0:\n",
    "    number -= 1\n",
    "    if number%3 == 0:\n",
    "        print(number)\n",
    "        break"
   ]
  },
  {
   "cell_type": "markdown",
   "metadata": {},
   "source": [
    "### 3.4.2. *continue*\n",
    "\n",
    "По команде *continue* текущая итерация прекращается."
   ]
  },
  {
   "cell_type": "code",
   "execution_count": 20,
   "metadata": {},
   "outputs": [
    {
     "name": "stdout",
     "output_type": "stream",
     "text": [
      "1\n",
      "8\n",
      "64\n",
      "125\n",
      "216\n"
     ]
    }
   ],
   "source": [
    "i = 0\n",
    "while i < 6:\n",
    "    i += 1\n",
    "    if i == 3:\n",
    "        continue\n",
    "    print(i**3)"
   ]
  },
  {
   "cell_type": "markdown",
   "metadata": {},
   "source": [
    "<u>Пример</u>. Найти все числа в диапазоне от $𝑛_1$ до $𝑛_2$, кратные пяти, но не кратные трем."
   ]
  },
  {
   "cell_type": "code",
   "execution_count": null,
   "metadata": {},
   "outputs": [],
   "source": [
    "n1, n2 = 0, 100\n",
    "for i in range(n1,n2+1):\n",
    "    if i%3 == 0:\n",
    "        continue\n",
    "    if i%5 == 0:\n",
    "        print(i, end=\", \")"
   ]
  },
  {
   "cell_type": "markdown",
   "metadata": {},
   "source": [
    "<u>Пример</u>. В этом примере цикл прерывается, если в строке встречается бува *а*."
   ]
  },
  {
   "cell_type": "code",
   "execution_count": null,
   "metadata": {},
   "outputs": [],
   "source": [
    "for i in 'Hello world!':\n",
    "  if i == 'a':\n",
    "    break\n",
    "else: # этот оператор else относится к циклу for\n",
    "  print('Буквы \\'a\\' в строке нет')"
   ]
  },
  {
   "cell_type": "markdown",
   "metadata": {},
   "source": [
    "# 4. Форматированная строка\n",
    "\n",
    "Форматированная строка позволяет подставлять в себя значения переменных."
   ]
  },
  {
   "cell_type": "code",
   "execution_count": 21,
   "metadata": {},
   "outputs": [
    {
     "data": {
      "text/plain": [
       "'В группе БИ22-13 учатся 20 студентов.'"
      ]
     },
     "execution_count": 21,
     "metadata": {},
     "output_type": "execute_result"
    }
   ],
   "source": [
    "number_of_students = 20\n",
    "group_title = \"БИ22-13\"\n",
    "\n",
    "f\"В группе {group_title} учатся {number_of_students} студентов.\""
   ]
  },
  {
   "cell_type": "markdown",
   "metadata": {},
   "source": [
    "<u>Пример.</u> Для каждой буквы слова \"Электроугли\" указать, является она гласной или согласной."
   ]
  },
  {
   "cell_type": "code",
   "execution_count": 22,
   "metadata": {},
   "outputs": [
    {
     "name": "stdout",
     "output_type": "stream",
     "text": [
      "Буква Э гласная\n",
      "Буква л согласная\n",
      "Буква е гласная\n",
      "Буква к согласная\n",
      "Буква т согласная\n",
      "Буква р согласная\n",
      "Буква о гласная\n",
      "Буква у гласная\n",
      "Буква г согласная\n",
      "Буква л согласная\n",
      "Буква и гласная\n"
     ]
    }
   ],
   "source": [
    "word = \"Электроугли\"\n",
    "vovels = \"аеиоуыэюя\"\n",
    "\n",
    "for letter in word:\n",
    "    if letter.lower() in vovels:\n",
    "        print(f\"Буква {letter} гласная\")\n",
    "    else:\n",
    "        print(f\"Буква {letter} согласная\")"
   ]
  },
  {
   "cell_type": "markdown",
   "metadata": {},
   "source": [
    "# Задания\n",
    "\n",
    "Выполните задания\n",
    "\n",
    "1. Напишите программу, которая подсчитывает и выводит на печать, сколько гласных и сколько согласных букв в предложении \"Расписание занятий на сайте Университета\".\n",
    "\n",
    "2. Попросите пользователя ввести целое число. Напишите программу, которая проверяет, является ли число чётным или нечётным.\n",
    "\n",
    "3. Попросите пользователя ввести целое положительное число. Напишите программу, которая сначала проверяет, является ли число положительным, и, если это так, находит логарифм по основанию 2 от этогот числа.\n",
    "\n",
    "4. С помощью цикла и функции *range()* распечатайте все чётные числа от 10 до 20 включительно.\n",
    "\n",
    "5. С помощью цикла и функции *range()* распечатайте все целые числа от 10 до 1: 10, 9, 8, ... 1.\n",
    "\n",
    "6. Сравните строки: \"Земля\" и \"земля\". Что является результатом?\n",
    "\n",
    "7. С помощью цикла *for* и функции *ord()* распечатайте коды символов строки *@fa.ru*.\n",
    "\n",
    "8. С помощью цикла *for* и функции *chr()* распечатайте символы с 58 по 64 с номерами. ожидается результат:\n",
    "\n",
    "```\n",
    "58 :\n",
    "59 ;\n",
    "60 <\n",
    "61 =\n",
    "62 >\n",
    "63 ?\n",
    "64 @\n",
    "```"
   ]
  },
  {
   "cell_type": "markdown",
   "metadata": {},
   "source": [
    "## Напишите программу, которая подсчитывает и выводит на печать, сколько гласных и сколько согласных букв в предложении \"Расписание занятий на сайте Университета\"."
   ]
  },
  {
   "cell_type": "code",
   "execution_count": 1,
   "metadata": {},
   "outputs": [
    {
     "name": "stdout",
     "output_type": "stream",
     "text": [
      "Количество гласных букв: 17\n",
      "Количество согласных букв: 19\n"
     ]
    }
   ],
   "source": [
    "sentence = \"Расписание занятий на сайте Университета\"\n",
    "sentence = sentence.lower()\n",
    "vowels_count = 0\n",
    "consonants_count = 0\n",
    "vowels = (\"аеёиоуыэюя\")\n",
    "for letter in sentence:\n",
    "    if letter in vowels:\n",
    "        vowels_count += 1\n",
    "    elif letter.isalpha():\n",
    "        consonants_count += 1\n",
    "print(f\"Количество гласных букв: {vowels_count}\")\n",
    "print(f\"Количество согласных букв: {consonants_count}\")"
   ]
  },
  {
   "cell_type": "markdown",
   "metadata": {},
   "source": [
    "## Попросите пользователя ввести целое число. Напишите программу, которая проверяет, является ли число чётным или нечётным"
   ]
  },
  {
   "cell_type": "code",
   "execution_count": 21,
   "metadata": {},
   "outputs": [
    {
     "name": "stdout",
     "output_type": "stream",
     "text": [
      "Введите число: 3\n",
      "Нечетное\n"
     ]
    }
   ],
   "source": [
    "number = int(input(\"Введите число: \"))\n",
    "if number % 2 == 0:\n",
    "    print(\"Четное\")\n",
    "else:\n",
    "    print(\"Нечетное\")"
   ]
  },
  {
   "cell_type": "markdown",
   "metadata": {},
   "source": [
    "## Попросите пользователя ввести целое положительное число. Напишите программу, которая сначала проверяет, является ли число положительным, и, если это так, находит логарифм по основанию 2 от этогот числа."
   ]
  },
  {
   "cell_type": "code",
   "execution_count": 23,
   "metadata": {},
   "outputs": [
    {
     "name": "stdout",
     "output_type": "stream",
     "text": [
      "Введите целое положительное число: -2\n",
      "Пожалуйста, введите корректное целое положительное число.\n",
      "Введите целое положительное число: 5\n",
      "Логарифм числа 5 по основанию 2: 2.321928094887362\n"
     ]
    }
   ],
   "source": [
    "import math\n",
    "\n",
    "while True:\n",
    "    user_input = input(\"Введите целое положительное число: \")\n",
    "    if user_input.isdigit():\n",
    "        number = int(user_input)\n",
    "        if number > 0:\n",
    "            break\n",
    "    print(\"Пожалуйста, введите корректное целое положительное число.\")\n",
    "\n",
    "log_base_2 = math.log2(number)\n",
    "\n",
    "print(f\"Логарифм числа {number} по основанию 2: {log_base_2}\")\n"
   ]
  },
  {
   "cell_type": "markdown",
   "metadata": {},
   "source": [
    "## С помощью цикла и функции range() распечатайте все чётные числа от 10 до 20 включительно.\n"
   ]
  },
  {
   "cell_type": "code",
   "execution_count": 30,
   "metadata": {},
   "outputs": [
    {
     "name": "stdout",
     "output_type": "stream",
     "text": [
      "10\n",
      "12\n",
      "14\n",
      "16\n",
      "18\n",
      "20\n"
     ]
    }
   ],
   "source": [
    "from random import random, randint\n",
    "\n",
    "\n",
    "for i in range(10,21,2):\n",
    "    print(i)"
   ]
  },
  {
   "cell_type": "markdown",
   "metadata": {},
   "source": [
    "## С помощью цикла и функции range() распечатайте все целые числа от 10 до 1: 10, 9, 8, ... 1."
   ]
  },
  {
   "cell_type": "code",
   "execution_count": 35,
   "metadata": {},
   "outputs": [
    {
     "name": "stdout",
     "output_type": "stream",
     "text": [
      "10\n",
      "9\n",
      "8\n",
      "7\n",
      "6\n",
      "5\n",
      "4\n",
      "3\n",
      "2\n",
      "1\n"
     ]
    }
   ],
   "source": [
    "from random import random, randint\n",
    "\n",
    "for i in range(10,0,-1):\n",
    "    print(i)"
   ]
  },
  {
   "cell_type": "markdown",
   "metadata": {},
   "source": [
    "## Сравните строки: \"Земля\" и \"земля\". Что является результатом?"
   ]
  },
  {
   "cell_type": "code",
   "execution_count": 36,
   "metadata": {},
   "outputs": [
    {
     "name": "stdout",
     "output_type": "stream",
     "text": [
      "Строки различны\n"
     ]
    }
   ],
   "source": [
    "string1 = \"Земля\"\n",
    "string2 = \"земля\"\n",
    "\n",
    "if string1 == string2:\n",
    "    print(\"Строки идентичны\")\n",
    "else:\n",
    "    print(\"Строки различны\")\n"
   ]
  },
  {
   "cell_type": "markdown",
   "metadata": {},
   "source": [
    "##  C помощью цикла for и функции ord() распечатайте коды символов строки @fa.ru."
   ]
  },
  {
   "cell_type": "code",
   "execution_count": 37,
   "metadata": {},
   "outputs": [
    {
     "name": "stdout",
     "output_type": "stream",
     "text": [
      "Код символа '@': 64\n",
      "Код символа 'f': 102\n",
      "Код символа 'a': 97\n",
      "Код символа '.': 46\n",
      "Код символа 'r': 114\n",
      "Код символа 'u': 117\n"
     ]
    }
   ],
   "source": [
    "string = \"@fa.ru\"\n",
    "\n",
    "for char in string:\n",
    "    print(f\"Код символа '{char}': {ord(char)}\")\n"
   ]
  },
  {
   "cell_type": "markdown",
   "metadata": {},
   "source": [
    "## С помощью цикла for и функции chr() распечатайте символы с 58 по 64 с номерами. ожидается результат:"
   ]
  },
  {
   "cell_type": "code",
   "execution_count": 38,
   "metadata": {},
   "outputs": [
    {
     "name": "stdout",
     "output_type": "stream",
     "text": [
      "Символ с кодом 58: :\n",
      "Символ с кодом 59: ;\n",
      "Символ с кодом 60: <\n",
      "Символ с кодом 61: =\n",
      "Символ с кодом 62: >\n",
      "Символ с кодом 63: ?\n",
      "Символ с кодом 64: @\n"
     ]
    }
   ],
   "source": [
    "for i in range(58, 65):\n",
    "    print(f\"Символ с кодом {i}: {chr(i)}\")\n"
   ]
  },
  {
   "cell_type": "code",
   "execution_count": null,
   "metadata": {},
   "outputs": [],
   "source": []
  }
 ],
 "metadata": {
  "kernelspec": {
   "display_name": "Python 3 (ipykernel)",
   "language": "python",
   "name": "python3"
  },
  "language_info": {
   "codemirror_mode": {
    "name": "ipython",
    "version": 3
   },
   "file_extension": ".py",
   "mimetype": "text/x-python",
   "name": "python",
   "nbconvert_exporter": "python",
   "pygments_lexer": "ipython3",
   "version": "3.11.4"
  },
  "toc": {
   "base_numbering": 1,
   "nav_menu": {},
   "number_sections": true,
   "sideBar": true,
   "skip_h1_title": false,
   "title_cell": "Table of Contents",
   "title_sidebar": "Contents",
   "toc_cell": true,
   "toc_position": {},
   "toc_section_display": true,
   "toc_window_display": false
  },
  "varInspector": {
   "cols": {
    "lenName": 16,
    "lenType": 16,
    "lenVar": 40
   },
   "kernels_config": {
    "python": {
     "delete_cmd_postfix": "",
     "delete_cmd_prefix": "del ",
     "library": "var_list.py",
     "varRefreshCmd": "print(var_dic_list())"
    },
    "r": {
     "delete_cmd_postfix": ") ",
     "delete_cmd_prefix": "rm(",
     "library": "var_list.r",
     "varRefreshCmd": "cat(var_dic_list()) "
    }
   },
   "types_to_exclude": [
    "module",
    "function",
    "builtin_function_or_method",
    "instance",
    "_Feature"
   ],
   "window_display": false
  }
 },
 "nbformat": 4,
 "nbformat_minor": 4
}
