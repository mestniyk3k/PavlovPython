{
 "cells": [
  {
   "cell_type": "markdown",
   "metadata": {
    "toc": true
   },
   "source": [
    "<h1>Table of Contents<span class=\"tocSkip\"></span></h1>\n",
    "<div class=\"toc\"><ul class=\"toc-item\"><li><span><a href=\"#Обработка-и-анализ-данных-в-Numpy-массивах\" data-toc-modified-id=\"Обработка-и-анализ-данных-в-Numpy-массивах-1\"><span class=\"toc-item-num\">1&nbsp;&nbsp;</span>Обработка и анализ данных в Numpy-массивах</a></span></li></ul></div>"
   ]
  },
  {
   "cell_type": "markdown",
   "metadata": {},
   "source": [
    "\n",
    "\n",
    "\n",
    "# Обработка и анализ данных в Numpy-массивах"
   ]
  },
  {
   "cell_type": "markdown",
   "metadata": {},
   "source": [
    "<p style=\"font-size:125%; color:#119988; background-color:#EEE\">Задание 1</p>\n",
    "\n",
    "Дано: списки `a,b=[1,1,1],[3,3,3]`\n",
    "\n",
    "Создать одномерные массивы A и B из списков а и b.\n",
    "\n",
    "Вычислить выражение $-((B-А)*(B/2))$"
   ]
  },
  {
   "cell_type": "code",
   "execution_count": 1,
   "metadata": {},
   "outputs": [],
   "source": [
    "import numpy as np"
   ]
  },
  {
   "cell_type": "code",
   "execution_count": 1,
   "metadata": {},
   "outputs": [
    {
     "name": "stdout",
     "output_type": "stream",
     "text": [
      "[-3. -3. -3.]\n"
     ]
    }
   ],
   "source": [
    "#1 Ваш код здесь\n",
    "import numpy as np\n",
    "a, b = [1, 1, 1], [3, 3, 3]\n",
    "A = np.array(a)\n",
    "B = np.array(b)\n",
    "result = -((B - A) * (B / 2))\n",
    "print(result)"
   ]
  },
  {
   "cell_type": "markdown",
   "metadata": {},
   "source": [
    "<p style=\"font-size:125%; color:#119988; background-color:#EEE\">Задание 2</p>\n",
    "\n",
    "Используя как можно меньше операций в исходном массиве \"шахматная доска\" np.zeros((8,8)), добиться расстановки кодов \"шахматных фигур\".\n",
    "\n",
    "Ожидаемый результат:\n",
    "```\n",
    "[[-4., -3., -2., -6., -5., -2., -3., -4.],\n",
    " [-1., -1., -1., -1., -1., -1., -1., -1.],\n",
    " [0., 0., 0., 0., 0., 0., 0., 0.],\n",
    " [0., 0., 0., 0., 0., 0., 0., 0.],\n",
    " [0., 0., 0., 0., 0., 0., 0., 0.],\n",
    " [0., 0., 0., 0., 0., 0., 0., 0.],\n",
    " [1., 1., 1., 1., 1., 1., 1., 1.],\n",
    " [4., 3., 2., 6., 5., 2., 3., 4.]]\n",
    " ```"
   ]
  },
  {
   "cell_type": "code",
   "execution_count": 1,
   "metadata": {},
   "outputs": [
    {
     "name": "stdout",
     "output_type": "stream",
     "text": [
      "[[-4. -3. -2. -6. -5. -2. -3. -4.]\n",
      " [-1. -1. -1. -1. -1. -1. -1. -1.]\n",
      " [ 0.  0.  0.  0.  0.  0.  0.  0.]\n",
      " [ 0.  0.  0.  0.  0.  0.  0.  0.]\n",
      " [ 0.  0.  0.  0.  0.  0.  0.  0.]\n",
      " [ 0.  0.  0.  0.  0.  0.  0.  0.]\n",
      " [ 1.  1.  1.  1.  1.  1.  1.  1.]\n",
      " [ 4.  3.  2.  6.  5.  2.  3.  4.]]\n"
     ]
    }
   ],
   "source": [
    "#2. Ваш код здесь\n",
    "import numpy as np\n",
    "\n",
    "chess_board = np.zeros((8, 8))\n",
    "\n",
    "chess_board[0, :] = [-4, -3, -2, -6, -5, -2, -3, -4]\n",
    "\n",
    "chess_board[7, :] = [4, 3, 2, 6, 5, 2, 3, 4]\n",
    "\n",
    "chess_board[1, :] = -1\n",
    "chess_board[6, :] = 1\n",
    "\n",
    "print(chess_board)\n",
    "\n"
   ]
  },
  {
   "cell_type": "markdown",
   "metadata": {},
   "source": [
    "<p style=\"font-size:125%; color:#119988; background-color:#EEE\">Задание 3</p>\n",
    "\n",
    "Средствами NumPy рассчитать произведения четных чисел от 2 до 20 на ближайшие к ним бОльшие нечетные числа"
   ]
  },
  {
   "cell_type": "code",
   "execution_count": 2,
   "metadata": {},
   "outputs": [
    {
     "name": "stdout",
     "output_type": "stream",
     "text": [
      "Четные числа: [ 2  4  6  8 10 12 14 16 18 20]\n",
      "Ближайшие большие нечетные числа: [ 3  5  7  9 11 13 15 17 19 21]\n",
      "Произведения: [  6  20  42  72 110 156 210 272 342 420]\n"
     ]
    }
   ],
   "source": [
    "# 3. Ваш код здесь\n",
    "import numpy as np\n",
    "\n",
    "even_numbers = np.arange(2, 21, 2)\n",
    "next_odd_numbers = even_numbers + 1\n",
    "products = even_numbers * next_odd_numbers\n",
    "\n",
    "print(\"Четные числа:\", even_numbers)\n",
    "print(\"Ближайшие большие нечетные числа:\", next_odd_numbers)\n",
    "print(\"Произведения:\", products)\n",
    "\n"
   ]
  },
  {
   "cell_type": "markdown",
   "metadata": {},
   "source": [
    "<p style=\"font-size:125%; color:#119988; background-color:#EEE\">Задание 4</p>\n",
    "\n",
    "Сгенерировать двумерный массив *arr* размерности (4, 7), состоящий из случайных действительных чисел, равномерно распределенных в дипазоне от 0 до 20. Нормализовать значения массива так, что после нормализации максимальный элемент масива будет равен 1.0, минимальный 0.0. Значения округлить (с помощью `np.round()`) до четырех десятичных знаков."
   ]
  },
  {
   "cell_type": "code",
   "execution_count": 3,
   "metadata": {},
   "outputs": [
    {
     "name": "stdout",
     "output_type": "stream",
     "text": [
      "[[1.     0.3125 0.3857 0.4243 0.2017 0.5689 0.9128]\n",
      " [0.5181 0.7041 0.8107 0.2001 0.2864 0.8666 0.6989]\n",
      " [0.     0.1298 0.2805 0.7672 0.6555 0.5136 0.6495]\n",
      " [0.116  0.4704 0.2727 0.6648 0.5245 0.0744 0.4819]]\n"
     ]
    }
   ],
   "source": [
    "# 4. Ваш код здесь\n",
    "\n",
    "import numpy as np\n",
    "\n",
    "arr = np.random.uniform(0, 20, size=(4,7))\n",
    "arr_norm = (arr - arr.min()) / (arr.max()-arr.min())\n",
    "arr_round = np.round(arr_norm, 4)\n",
    "print(arr_round)"
   ]
  },
  {
   "cell_type": "markdown",
   "metadata": {},
   "source": [
    "<p style=\"font-size:125%; color:#119988; background-color:#EEE\">Задание 5</p>\n",
    "\n",
    "5. Имеется массив my_array\n",
    "```\n",
    "my_array = np.array([[1,2,3,4,5],\n",
    "                [6,7,8,9,10],\n",
    "                [11,12,13,14,15],\n",
    "                [16,17,18,19,20],\n",
    "                [21,22,23,24,25]])\n",
    "```\n",
    "Напишите код, с помощью которого можно извлечь из него центральный фрагмент размером 3 х 3, с числами 7, 8, 9, 12, 13, 14, 17, 18, 19."
   ]
  },
  {
   "cell_type": "code",
   "execution_count": 4,
   "metadata": {},
   "outputs": [
    {
     "name": "stdout",
     "output_type": "stream",
     "text": [
      "[[ 7  8  9 10]\n",
      " [12 13 14 15]\n",
      " [17 18 19 20]\n",
      " [22 23 24 25]]\n"
     ]
    }
   ],
   "source": [
    "# 5. Ваш код здесь\n",
    "\n",
    "my_array = np.array([[1,2,3,4,5],\n",
    "             [6,7,8,9,10],\n",
    "             [11,12,13,14,15],\n",
    "             [16,17,18,19,20],\n",
    "             [21,22,23,24,25]])\n",
    "\n",
    "\n",
    "central = my_array [2 - 1:2+3, 2-1:2+3]\n",
    "print(central)\n"
   ]
  },
  {
   "cell_type": "markdown",
   "metadata": {},
   "source": [
    "<p style=\"font-size:125%; color:#119988; background-color:#EEE\">Задание 6</p>\n",
    "\n",
    "Создайте массив *my_sin*, состоящий из синусов элементов массива *my_array*.\n",
    "Посчитайте, чему равна сумма элементов полученного массива. Ответ округлите до\n",
    "трёх цифр после запятой."
   ]
  },
  {
   "cell_type": "code",
   "execution_count": 12,
   "metadata": {},
   "outputs": [
    {
     "name": "stdout",
     "output_type": "stream",
     "text": [
      "Сумма элементов массива:  0.074\n"
     ]
    }
   ],
   "source": [
    "# 6. Ваш код здесь\n",
    "\n",
    "import numpy as np \n",
    "my_array = np.arange(25).reshape(5, 5)\n",
    "my_sin = np.sin(my_array)\n",
    "\n",
    "sum_sin = my_sin.sum()\n",
    "print(\"Сумма элементов массива: \", round(sum_sin, 3))"
   ]
  },
  {
   "cell_type": "markdown",
   "metadata": {},
   "source": [
    "<p style=\"font-size:125%; color:#119988; background-color:#EEE\">Задание 7</p>\n",
    "\n",
    "Создать матрицу из 20 случайных целых чисел от 0 до 100. Получить второе сверху значение в матрице. Определить индекс этого значения."
   ]
  },
  {
   "cell_type": "code",
   "execution_count": 20,
   "metadata": {},
   "outputs": [
    {
     "name": "stdout",
     "output_type": "stream",
     "text": [
      "Матрица :\n",
      "[[98 54 34 69 78]\n",
      " [37 20 46 96 83]\n",
      " [63 35 96 66 81]\n",
      " [38 19 33 65 60]]\n",
      "\n",
      "Второе сверху значение в матрице:  96\n",
      "Индексы этого значения: \n",
      "(1, 3)\n",
      "(2, 2)\n",
      "\n",
      "В матрице недостаточно уникальных значений.\n"
     ]
    }
   ],
   "source": [
    "# 7. Ваш код здесь\n",
    "import numpy as np\n",
    "matrix = np.random.randint(0, 101, size = (4, 5))\n",
    "\n",
    "print(\"Матрица :\")\n",
    "print(matrix)\n",
    "\n",
    "fl_matrix = matrix.flatten()\n",
    "flatted_matrix_sorted = np.unique(np.sort(fl_matrix))\n",
    "\n",
    "if len(flatted_matrix_sorted) >= 2:\n",
    "    second_hightest_value = flatted_matrix_sorted[-2]\n",
    "    indices = np.where(matrix == second_hightest_value)\n",
    "\n",
    "print(\"\\nВторое сверху значение в матрице: \", second_hightest_value)\n",
    "print(\"Индексы этого значения: \")\n",
    "\n",
    "for i in range(len(indices[0])):\n",
    "        print(f\"({indices[0][i]}, {indices[1][i]})\")\n",
    "else:\n",
    "    print(\"\\nВ матрице недостаточно уникальных значений.\")"
   ]
  },
  {
   "cell_type": "markdown",
   "metadata": {},
   "source": [
    "<p style=\"font-size:125%; color:#119988; background-color:#EEE\">Задание 8</p>\n",
    "\n",
    "Задать два двухмерных массива *ar1* и *ar2* размерности (4, 7), состоящих из случайных целых чисел в пределах от 0 до 10. Построить двухмерный массив размерности (4, 7), каждый элемент которого представляет собой максимум (минимум, среднее) из двух значений, находящихся на аналогичной позиции в массивах *ar1*, *ar2*."
   ]
  },
  {
   "cell_type": "code",
   "execution_count": 24,
   "metadata": {},
   "outputs": [
    {
     "name": "stdout",
     "output_type": "stream",
     "text": [
      "arr1:\n",
      "[[ 7 10  5  7  1  8 10]\n",
      " [ 2  1  6  2  8  1  0]\n",
      " [ 0  9  9  8  2  8  8]\n",
      " [ 0  6  9  4  1  0  8]]\n",
      "arr2:\n",
      "[[ 7 10  5  2 10  3  7]\n",
      " [ 3  4  5  3  2  0  0]\n",
      " [ 3  9  6  8  4  8  4]\n",
      " [ 1 10  3  3  3  8  3]]\n",
      "\n",
      "Массив, максимум из 2х значений\n",
      "[[ 7 10  5  7 10  8 10]\n",
      " [ 3  4  6  3  8  1  0]\n",
      " [ 3  9  9  8  4  8  8]\n",
      " [ 1 10  9  4  3  8  8]]\n",
      "\n",
      "Массив, минимум из 2х значений\n",
      "[[ 7 10  5  2  1  3  7]\n",
      " [ 2  1  5  2  2  0  0]\n",
      " [ 0  9  6  8  2  8  4]\n",
      " [ 0  6  3  3  1  0  3]]\n",
      "\n",
      "Массив, среднее из 2х значений\n",
      "[[ 7.  10.   5.   4.5  5.5  5.5  8.5]\n",
      " [ 2.5  2.5  5.5  2.5  5.   0.5  0. ]\n",
      " [ 1.5  9.   7.5  8.   3.   8.   6. ]\n",
      " [ 0.5  8.   6.   3.5  2.   4.   5.5]]\n"
     ]
    }
   ],
   "source": [
    "# 8. Ваш код здесь\n",
    "\n",
    "import numpy as np \n",
    "arr1 = np.random.randint(0, 11, size = (4, 7))\n",
    "arr2 = np.random.randint(0, 11, size = (4, 7))\n",
    "\n",
    "print(\"arr1:\")\n",
    "print(arr1)\n",
    "print(\"arr2:\")\n",
    "print(arr2)\n",
    "\n",
    "maximum_array = np.maximum(arr1, arr2)\n",
    "print(\"\\nМассив, максимум из 2х значений\")\n",
    "print(maximum_array)\n",
    "\n",
    "minimum_array = np.minimum(arr1, arr2)\n",
    "print(\"\\nМассив, минимум из 2х значений\")\n",
    "print(minimum_array)\n",
    "\n",
    "average_array = (arr1 + arr2) / 2 \n",
    "print(\"\\nМассив, среднее из 2х значений\")\n",
    "print(average_array)"
   ]
  },
  {
   "cell_type": "markdown",
   "metadata": {},
   "source": [
    "<p style=\"font-size:125%; color:#119988; background-color:#EEE\">Задание 9</p>\n",
    "\n",
    "Имеется массив *great_array*\n",
    "```\n",
    "first = [x**(1/2) for x in range(100)]\n",
    "second = [x**(1/3) for x in range(100, 200)]\n",
    "third = [x/y for x in range(200,300,2) for y in [3,5]]\n",
    "great_array = np.array([first, second, third]).T\n",
    "```\n",
    "Чему равна сумма элементов массива great_array, значение которых больше 50?"
   ]
  },
  {
   "cell_type": "code",
   "execution_count": 25,
   "metadata": {},
   "outputs": [
    {
     "name": "stdout",
     "output_type": "stream",
     "text": [
      "Сумма элементов массива, значение которых > 50 5470.0\n"
     ]
    }
   ],
   "source": [
    "#9 Ваш код здесь\n",
    "import numpy as np\n",
    "\n",
    "first = [x**(1/2) for x in range(100)]\n",
    "second = [x**(1/3) for x in range(100, 200)]\n",
    "third = [x/y for x in range(200,300,2) for y in [3,5]]\n",
    "great_array = np.array([first, second, third]).T\n",
    "\n",
    "\n",
    "sum_50 = np.sum(great_array[great_array > 50])\n",
    "\n",
    "print(\"Сумма элементов массива, значение которых > 50\", sum_50)"
   ]
  },
  {
   "cell_type": "markdown",
   "metadata": {},
   "source": [
    "<p style=\"font-size:125%; color:#119988; background-color:#EEE\">Задание 10</p>\n",
    "\n",
    "Переведите массив *great_array* в одномерную форму. Какое значение в получившемся массиве имеет элемент с индексом 150?"
   ]
  },
  {
   "cell_type": "code",
   "execution_count": 29,
   "metadata": {},
   "outputs": [],
   "source": [
    "# 10. Ваш код здесь\n",
    "\n"
   ]
  },
  {
   "cell_type": "markdown",
   "metadata": {},
   "source": [
    "<p style=\"font-size:125%; color:#119988; background-color:#EEE\">Задание 11</p>\n",
    "\n",
    "Получить индексы, для которых элементы массивов A и B совпадают.\n",
    "```\n",
    "A = np.array([1,2,3,2,3,4,3,4,5,6])\n",
    "B = np.array([7,2,10,2,7,4,9,4,9,8])\n",
    "```\n",
    "Ожидается результат:\n",
    "\n",
    "```\n",
    "array([1, 3, 5, 7])\n",
    "```"
   ]
  },
  {
   "cell_type": "code",
   "execution_count": 12,
   "metadata": {},
   "outputs": [],
   "source": [
    "# 11.\n",
    "\n",
    "A = np.array([1,2,3,2,3,4,3,4,5,6])\n",
    "B = np.array([7,2,10,2,7,4,9,4,9,8])\n",
    "\n",
    "# Ваш код здесь\n",
    "\n"
   ]
  },
  {
   "cell_type": "markdown",
   "metadata": {},
   "source": [
    "<p style=\"font-size:125%; color:#119988; background-color:#EEE\">Задание 12</p>\n",
    "\n",
    "Создайте три массива: массив четных чисел от 2 до 20, массив ближайших к числам первого массива бОльших нечётных чисел, массив векторного произведения первого массива на второй. Соедините все массивы в один двумерный массив, расположив исходные массивы в столбцах."
   ]
  },
  {
   "cell_type": "code",
   "execution_count": 3,
   "metadata": {},
   "outputs": [],
   "source": [
    "# 12.  Ваш код здесь\n",
    "\n"
   ]
  }
 ],
 "metadata": {
  "kernelspec": {
   "display_name": "Python 3 (ipykernel)",
   "language": "python",
   "name": "python3"
  },
  "language_info": {
   "codemirror_mode": {
    "name": "ipython",
    "version": 3
   },
   "file_extension": ".py",
   "mimetype": "text/x-python",
   "name": "python",
   "nbconvert_exporter": "python",
   "pygments_lexer": "ipython3",
   "version": "3.11.5"
  },
  "toc": {
   "base_numbering": 1,
   "nav_menu": {},
   "number_sections": true,
   "sideBar": true,
   "skip_h1_title": false,
   "title_cell": "Table of Contents",
   "title_sidebar": "Contents",
   "toc_cell": true,
   "toc_position": {},
   "toc_section_display": true,
   "toc_window_display": false
  },
  "varInspector": {
   "cols": {
    "lenName": 16,
    "lenType": 16,
    "lenVar": 40
   },
   "kernels_config": {
    "python": {
     "delete_cmd_postfix": "",
     "delete_cmd_prefix": "del ",
     "library": "var_list.py",
     "varRefreshCmd": "print(var_dic_list())"
    },
    "r": {
     "delete_cmd_postfix": ") ",
     "delete_cmd_prefix": "rm(",
     "library": "var_list.r",
     "varRefreshCmd": "cat(var_dic_list()) "
    }
   },
   "types_to_exclude": [
    "module",
    "function",
    "builtin_function_or_method",
    "instance",
    "_Feature"
   ],
   "window_display": false
  }
 },
 "nbformat": 4,
 "nbformat_minor": 4
}
