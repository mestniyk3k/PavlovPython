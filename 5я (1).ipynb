{
 "cells": [
  {
   "cell_type": "markdown",
   "id": "75ba224b",
   "metadata": {
    "toc": true
   },
   "source": [
    "<h1>Table of Contents<span class=\"tocSkip\"></span></h1>\n",
    "<div class=\"toc\"><ul class=\"toc-item\"></ul></div>"
   ]
  },
  {
   "cell_type": "markdown",
   "id": "edbef882",
   "metadata": {},
   "source": [
    "<p style=\"font-size:125%; color:#119988; background-color:#EEE\">Задание 1</p>\n",
    "\n",
    "Создайте словарь *food* продуктов питания, ключами которого являются наименования, а значениями цены. Исходные данные для словаря:\n",
    "```\n",
    "titles=('apples,grape,bananas,watermelons,tomatoes'.split(','))\n",
    "prices=(20,25,15,11,15)\n",
    "```"
   ]
  },
  {
   "cell_type": "code",
   "execution_count": 1,
   "id": "7befff06",
   "metadata": {},
   "outputs": [],
   "source": [
    "# 1\n",
    "\n",
    "titles=('apples,grape,bananas,watermelons,tomatoes'.split(','))\n",
    "prices=(20,25,15,11,15)\n",
    "\n",
    "food = dict(zip(titles, prices))\n"
   ]
  },
  {
   "cell_type": "markdown",
   "id": "815e7957",
   "metadata": {},
   "source": [
    "<p style=\"font-size:125%; color:#119988; background-color:#EEE\">Задание 2</p>\n",
    "\n",
    "Удалите из словаря *food* арбузы (watermelons) и добавьте дыни (melons) по той же цене."
   ]
  },
  {
   "cell_type": "code",
   "execution_count": 3,
   "id": "50964e18",
   "metadata": {},
   "outputs": [
    {
     "name": "stdout",
     "output_type": "stream",
     "text": [
      "{'apples': 20, 'grape': 25, 'bananas': 15, 'tomatoes': 15, 'melons': 11}\n"
     ]
    }
   ],
   "source": [
    "# 2\n",
    "titles = 'apples,grape,bananas,watermelons,tomatoes'.split(',')\n",
    "prices = (20, 25, 15, 11, 15)\n",
    "\n",
    "food = dict(zip(titles, prices))\n",
    "\n",
    "if 'watermelons' in food:\n",
    "    del food['watermelons']\n",
    "    food['melons'] = prices[titles.index('watermelons')]\n",
    "\n",
    "print(food)\n"
   ]
  },
  {
   "cell_type": "markdown",
   "id": "09da5372",
   "metadata": {},
   "source": [
    "<p style=\"font-size:125%; color:#119988; background-color:#EEE\">Задание 3</p>\n",
    "\n",
    "Все цены снижены на 15%. Обновите словарь продуктов."
   ]
  },
  {
   "cell_type": "code",
   "execution_count": 5,
   "id": "b88d99a1",
   "metadata": {},
   "outputs": [
    {
     "name": "stdout",
     "output_type": "stream",
     "text": [
      "{'apples': 17.0, 'grape': 21.25, 'bananas': 12.75, 'tomatoes': 12.75, 'melons': 9.35}\n"
     ]
    }
   ],
   "source": [
    "# 3\n",
    "titles = 'apples,grape,bananas,watermelons,tomatoes'.split(',')\n",
    "prices = (20, 25, 15, 11, 15)\n",
    "\n",
    "food = dict(zip(titles, prices))\n",
    "\n",
    "if 'watermelons' in food:\n",
    "    del food['watermelons']\n",
    "    food['melons'] = prices[titles.index('watermelons')]\n",
    "\n",
    "food = {title: price * 0.85 for title, price in food.items()}\n",
    "\n",
    "print(food)"
   ]
  },
  {
   "cell_type": "markdown",
   "id": "ea04b336",
   "metadata": {},
   "source": [
    "<p style=\"font-size:125%; color:#119988; background-color:#EEE\">Задание 4</p>\n",
    "\n",
    "Поменяйте местами цены и названия, пусть ключами словаря станут цены, а значениями - названия. Изменилось ли при этом количество элементов словаря? Если да, то объясните, почему."
   ]
  },
  {
   "cell_type": "code",
   "execution_count": 37,
   "id": "968cf531",
   "metadata": {},
   "outputs": [
    {
     "name": "stdout",
     "output_type": "stream",
     "text": [
      "{20: 'apples', 25: 'grape', 15: 'tomatoes', 11: 'watermelons'}\n"
     ]
    }
   ],
   "source": [
    "# 4\n",
    "titles = 'apples,grape,bananas,watermelons,tomatoes'.split(',')\n",
    "prices = (20, 25, 15, 11, 15)\n",
    "\n",
    "# Создание исходного словаря\n",
    "food = dict(zip(titles, prices))\n",
    "\n",
    "# Поменять местами цены и названия\n",
    "food_swapped = {price: title for title, price in food.items()}\n",
    "\n",
    "print(food_swapped)\n"
   ]
  },
  {
   "cell_type": "markdown",
   "id": "ef49adb3",
   "metadata": {},
   "source": [
    "<p style=\"font-size:125%; color:#119988; background-color:#EEE\">Задание 5</p>\n",
    "\n",
    "Напишите функцию, возвращающую максимальную степень некоторого натурального числа $k$ (например $k=2$), меньшую данного натурального числа $n$. Пусть $k$ и $n$ будут параметрами функции."
   ]
  },
  {
   "cell_type": "code",
   "execution_count": 12,
   "id": "a56f047a",
   "metadata": {},
   "outputs": [
    {
     "name": "stdout",
     "output_type": "stream",
     "text": [
      "Введите натуральное число k: 2\n",
      "Введите натуральное число n, большее чем 2: 5\n",
      "Максимальная степень, меньшая чем n, равна 2\n"
     ]
    }
   ],
   "source": [
    "def find_max_power():\n",
    "    k = int(input(\"Введите натуральное число k: \"))\n",
    "    n = int(input(f\"Введите натуральное число n, большее чем {k}: \"))\n",
    "\n",
    "    power = 0\n",
    "    result = k ** power\n",
    "    while result < n:\n",
    "        power += 1\n",
    "        result = k ** power\n",
    "    return power - 1\n",
    "\n",
    "max_power = find_max_power()\n",
    "print(f\"Максимальная степень, меньшая чем n, равна {max_power}\")\n"
   ]
  },
  {
   "cell_type": "markdown",
   "id": "dafc63f5",
   "metadata": {},
   "source": [
    "<p style=\"font-size:125%; color:#119988; background-color:#EEE\">Задание 6</p>\n",
    "\n",
    "Создайте функцию, возвращающую ряд Фибоначчи до определенного натурального числа $n$."
   ]
  },
  {
   "cell_type": "code",
   "execution_count": 14,
   "id": "de7f401f",
   "metadata": {},
   "outputs": [
    {
     "name": "stdout",
     "output_type": "stream",
     "text": [
      "Введите натуральное число n: 1\n",
      "Ряд Фибоначчи до 1: [0, 1, 1]\n"
     ]
    }
   ],
   "source": [
    "# 6\n",
    "def fibonacci_series(n):\n",
    "    fib_series = [0, 1]\n",
    "    while fib_series[-1] + fib_series[-2] <= n:\n",
    "        fib_series.append(fib_series[-1] + fib_series[-2])\n",
    "    return fib_series\n",
    "\n",
    "# Пример использования\n",
    "n_value = int(input(\"Введите натуральное число n: \"))\n",
    "result = fibonacci_series(n_value)\n",
    "print(f\"Ряд Фибоначчи до {n_value}: {result}\")\n"
   ]
  },
  {
   "cell_type": "markdown",
   "id": "119e660a",
   "metadata": {},
   "source": [
    "<p style=\"font-size:125%; color:#119988; background-color:#EEE\">Задание 7</p>\n",
    "\n",
    "Создайте рекурсивную функцию, возвращающую ряд Фибоначчи до определенного натурального числа $n$."
   ]
  },
  {
   "cell_type": "code",
   "execution_count": 17,
   "id": "31838c27",
   "metadata": {},
   "outputs": [
    {
     "name": "stdout",
     "output_type": "stream",
     "text": [
      "Введите натуральное число n: 1\n",
      "Рекурсивный ряд Фибоначчи до 1: [0, 1, 1]\n"
     ]
    }
   ],
   "source": [
    "def fibonacci_recursive(n, fib_series=[0, 1]):\n",
    "    if fib_series[-1] + fib_series[-2] <= n:\n",
    "        fib_series.append(fib_series[-1] + fib_series[-2])\n",
    "        fibonacci_recursive(n, fib_series)\n",
    "    return fib_series\n",
    "\n",
    "# Пример использования\n",
    "n_value = int(input(\"Введите натуральное число n: \"))\n",
    "result_recursive = fibonacci_recursive(n_value)\n",
    "print(f\"Рекурсивный ряд Фибоначчи до {n_value}: {result_recursive}\")\n"
   ]
  },
  {
   "cell_type": "markdown",
   "id": "ec8400ea",
   "metadata": {},
   "source": [
    "<p style=\"font-size:125%; color:#119988; background-color:#EEE\">Задание 8</p>\n",
    "\n",
    "Создайте функцию, которая проверяет, является ли число членом ряда Фибоначчи."
   ]
  },
  {
   "cell_type": "code",
   "execution_count": 31,
   "id": "a8715c73",
   "metadata": {},
   "outputs": [
    {
     "name": "stdout",
     "output_type": "stream",
     "text": [
      "Введите число для проверки: 0\n",
      "0 не является членом ряда Фибоначчи.\n"
     ]
    }
   ],
   "source": [
    "# 8\n",
    "def is_fibonacci_number(number):\n",
    "    a, b = 0, 1\n",
    "    while b < number:\n",
    "        a, b = b, a + b\n",
    "    return b == number\n",
    "\n",
    "# Пример использования\n",
    "num_value = int(input(\"Введите число для проверки: \"))\n",
    "result = is_fibonacci_number(num_value)\n",
    "print(f\"{num_value} {'является' if result else 'не является'} членом ряда Фибоначчи.\")\n"
   ]
  },
  {
   "cell_type": "markdown",
   "id": "eed2994e",
   "metadata": {},
   "source": [
    "<p style=\"font-size:125%; color:#119988; background-color:#EEE\">Задание 9</p>\n",
    "\n",
    "Студентка Александра родилась 11 июня 2003 года в 12 часов дня. Рассчитать время в минутах с момента рождения."
   ]
  },
  {
   "cell_type": "code",
   "execution_count": 35,
   "id": "6d81786f",
   "metadata": {},
   "outputs": [
    {
     "name": "stdout",
     "output_type": "stream",
     "text": [
      "Время с момента рождения: 10744621 минут\n"
     ]
    }
   ],
   "source": [
    "# 9\n",
    "from datetime import datetime\n",
    "\n",
    "birth_date = datetime(2003, 6, 11, 12, 0, 0)\n",
    "current_date = datetime.now()\n",
    "time_difference = current_date - birth_date\n",
    "time_in_minutes = int(time_difference.total_seconds() / 60 )\n",
    "\n",
    "print(f\"Время с момента рождения: {time_in_minutes} минут\")\n"
   ]
  },
  {
   "cell_type": "code",
   "execution_count": null,
   "id": "a2920bfa",
   "metadata": {},
   "outputs": [],
   "source": []
  },
  {
   "cell_type": "code",
   "execution_count": null,
   "id": "71427ac3",
   "metadata": {},
   "outputs": [],
   "source": []
  }
 ],
 "metadata": {
  "kernelspec": {
   "display_name": "Python 3 (ipykernel)",
   "language": "python",
   "name": "python3"
  },
  "language_info": {
   "codemirror_mode": {
    "name": "ipython",
    "version": 3
   },
   "file_extension": ".py",
   "mimetype": "text/x-python",
   "name": "python",
   "nbconvert_exporter": "python",
   "pygments_lexer": "ipython3",
   "version": "3.11.5"
  },
  "toc": {
   "base_numbering": 1,
   "nav_menu": {},
   "number_sections": true,
   "sideBar": true,
   "skip_h1_title": false,
   "title_cell": "Table of Contents",
   "title_sidebar": "Contents",
   "toc_cell": true,
   "toc_position": {},
   "toc_section_display": true,
   "toc_window_display": false
  },
  "varInspector": {
   "cols": {
    "lenName": 16,
    "lenType": 16,
    "lenVar": 40
   },
   "kernels_config": {
    "python": {
     "delete_cmd_postfix": "",
     "delete_cmd_prefix": "del ",
     "library": "var_list.py",
     "varRefreshCmd": "print(var_dic_list())"
    },
    "r": {
     "delete_cmd_postfix": ") ",
     "delete_cmd_prefix": "rm(",
     "library": "var_list.r",
     "varRefreshCmd": "cat(var_dic_list()) "
    }
   },
   "types_to_exclude": [
    "module",
    "function",
    "builtin_function_or_method",
    "instance",
    "_Feature"
   ],
   "window_display": false
  }
 },
 "nbformat": 4,
 "nbformat_minor": 5
}
