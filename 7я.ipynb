{
 "cells": [
  {
   "cell_type": "markdown",
   "metadata": {
    "toc": true
   },
   "source": [
    "<h1>Table of Contents<span class=\"tocSkip\"></span></h1>\n",
    "<div class=\"toc\"><ul class=\"toc-item\"><li><span><a href=\"#Библиотека-Pandas\" data-toc-modified-id=\"Библиотека-Pandas-1\"><span class=\"toc-item-num\">1&nbsp;&nbsp;</span>Библиотека Pandas</a></span></li><li><span><a href=\"#Раздел-1.-Создание-таблиц-из-коллекций\" data-toc-modified-id=\"Раздел-1.-Создание-таблиц-из-коллекций-2\"><span class=\"toc-item-num\">2&nbsp;&nbsp;</span>Раздел 1. Создание таблиц из коллекций</a></span></li><li><span><a href=\"#Раздел-2.-Извлечение-данных-по-условию\" data-toc-modified-id=\"Раздел-2.-Извлечение-данных-по-условию-3\"><span class=\"toc-item-num\">3&nbsp;&nbsp;</span>Раздел 2. Извлечение данных по условию</a></span><ul class=\"toc-item\"><li><ul class=\"toc-item\"><li><span><a href=\"#Работа-с-набором-данных-Financial-Sample\" data-toc-modified-id=\"Работа-с-набором-данных-Financial-Sample-3.0.1\"><span class=\"toc-item-num\">3.0.1&nbsp;&nbsp;</span>Работа с набором данных <em>Financial Sample</em></a></span></li><li><span><a href=\"#Извлечение-данных-по-условию\" data-toc-modified-id=\"Извлечение-данных-по-условию-3.0.2\"><span class=\"toc-item-num\">3.0.2&nbsp;&nbsp;</span>Извлечение данных по условию</a></span></li></ul></li><li><span><a href=\"#Раздел-3.-Группировка-данных\" data-toc-modified-id=\"Раздел-3.-Группировка-данных-3.1\"><span class=\"toc-item-num\">3.1&nbsp;&nbsp;</span>Раздел 3. Группировка данных</a></span></li></ul></li></ul></div>"
   ]
  },
  {
   "cell_type": "markdown",
   "metadata": {
    "id": "2Yn_cT5q5eWw"
   },
   "source": [
    "\n",
    "\n",
    "# Библиотека Pandas"
   ]
  },
  {
   "cell_type": "code",
   "execution_count": 1,
   "metadata": {
    "id": "O3_eV5N1mBsX"
   },
   "outputs": [],
   "source": [
    "import pandas as pd"
   ]
  },
  {
   "cell_type": "markdown",
   "metadata": {},
   "source": [
    "# Раздел 1. Создание таблиц из коллекций"
   ]
  },
  {
   "cell_type": "markdown",
   "metadata": {
    "id": "5lpvxhPt14Rz"
   },
   "source": [
    "<p style=\"font-size:125%; color:#119988; background-color:#EEE\">Задание 1.1</p>\n",
    "\n",
    "Имеется *серия*, содержащая числа от 10 до 1000. Какое число содержит элемент с индексом 175? Вычислите разность элементов с индексами 900 и 16."
   ]
  },
  {
   "cell_type": "code",
   "execution_count": 6,
   "metadata": {
    "id": "dwKG6XBG2aGI"
   },
   "outputs": [
    {
     "name": "stdout",
     "output_type": "stream",
     "text": [
      "Число по индексу 175: 185\n",
      "Разность между индексами 900 и 16: 884\n"
     ]
    }
   ],
   "source": [
    "import pandas as pd\n",
    "\n",
    "series_data = pd.Series(range(10, 1001))\n",
    "\n",
    "element_at_index_175 = series_data[175]\n",
    "\n",
    "difference_between_indexes_900_and_16 = series_data[900] - series_data[16]\n",
    "\n",
    "print(\"Число по индексу 175:\", element_at_index_175)\n",
    "print(\"Разность между индексами 900 и 16:\", difference_between_indexes_900_and_16)\n"
   ]
  },
  {
   "cell_type": "markdown",
   "metadata": {
    "id": "KxLDOxlXHcnw"
   },
   "source": [
    "<p style=\"font-size:125%; color:#119988; background-color:#EEE\">Задание 1.2</p>\n",
    "\n",
    "Мебельная фабрика выпускает продукцию  наименований: диваны, кровати, трюмо. Создайте таблицу *DatаFrame*, содержащую: количество призведенной продукции каждого наименования, остаток на складе фабрики. Наименования разместите в строках, а количество и остаток в столбцах."
   ]
  },
  {
   "cell_type": "code",
   "execution_count": 7,
   "metadata": {
    "id": "dwKG6XBG2aGI"
   },
   "outputs": [
    {
     "name": "stdout",
     "output_type": "stream",
     "text": [
      "         Количество произведенной продукции  Остаток на складе\n",
      "Диваны                                   10                  5\n",
      "Кровати                                  15                 10\n",
      "Трюмо                                     8                  3\n"
     ]
    }
   ],
   "source": [
    "import pandas as pd\n",
    "\n",
    "data = {\n",
    "    'Количество произведенной продукции': [10, 15, 8],\n",
    "    'Остаток на складе': [5, 10, 3]\n",
    "}\n",
    "\n",
    "products = ['Диваны', 'Кровати', 'Трюмо']\n",
    "\n",
    "df = pd.DataFrame(data, index=products)\n",
    "\n",
    "print(df)\n"
   ]
  },
  {
   "cell_type": "markdown",
   "metadata": {
    "id": "4-VMbARUiXxB"
   },
   "source": [
    "<p style=\"font-size:125%; color:#119988; background-color:#EEE\">Задание 1.3</p>\n",
    "\n",
    "Разделите столбец **car** таблицы **market** на два столбца: **mark** (марка) и **model** (модель).\n",
    "\n",
    "```\n",
    "market = pd.DataFrame({'car':['Lada Granta','Lada Vesta','Kia Rio','Hyunday Creta'], \n",
    "                       'year':[2019,2018,2010,2015], \n",
    "                       'condition':[75,104,20,90], 'km':[130000,210000,75000,94000]})\n",
    "```"
   ]
  },
  {
   "cell_type": "code",
   "execution_count": 9,
   "metadata": {},
   "outputs": [
    {
     "name": "stdout",
     "output_type": "stream",
     "text": [
      "   year  condition      km     mark   model\n",
      "0  2019         75  130000     Lada  Granta\n",
      "1  2018        104  210000     Lada   Vesta\n",
      "2  2010         20   75000      Kia     Rio\n",
      "3  2015         90   94000  Hyunday   Creta\n"
     ]
    }
   ],
   "source": [
    "import pandas as pd\n",
    "\n",
    "# Исходная таблица market\n",
    "market = pd.DataFrame({'car': ['Lada Granta', 'Lada Vesta', 'Kia Rio', 'Hyunday Creta'],\n",
    "                        'year': [2019, 2018, 2010, 2015],\n",
    "                        'condition': [75, 104, 20, 90],\n",
    "                        'km': [130000, 210000, 75000, 94000]})\n",
    "\n",
    "market[['mark', 'model']] = market['car'].str.split(' ',  expand=True)\n",
    "\n",
    "\n",
    "market = market.drop('car', axis=1)\n",
    "\n",
    "\n",
    "print(market)\n"
   ]
  },
  {
   "cell_type": "markdown",
   "metadata": {},
   "source": [
    "<p style=\"font-size:125%; color:#119988; background-color:#EEE\">Задание 1.4</p>\n",
    "\n",
    "Имеются исторические данные о цене акции в виде таблицы DataFrame.\n",
    "\n",
    "```\n",
    "history=pd.DataFrame([[150,20,140,140],[140,31,152,150],\n",
    "                     [147,17,180,164],[129,33,150,167]],\n",
    "                     columns=['Open','Low','High','Close'],\n",
    "                     index=['2020-12-07','2020-12-08','2020-12-09','2020-12-10'])\n",
    "```\n",
    "Найдите минимальную и максимальную цены закрытия, стандартное отклонение цены открытия, среднее значение самой низкой (Low) цены и медиану самой высокой (High) цены."
   ]
  },
  {
   "cell_type": "code",
   "execution_count": 10,
   "metadata": {},
   "outputs": [
    {
     "name": "stdout",
     "output_type": "stream",
     "text": [
      "Минимальная цена закрытия: 140\n",
      "Максимальная цена закрытия: 167\n",
      "Стандартное отклонение цены открытия: 9.327379053088816\n",
      "Среднее значение самой низкой цены: 25.25\n",
      "Медиана самой высокой цены: 151.0\n"
     ]
    }
   ],
   "source": [
    "import pandas as pd\n",
    "\n",
    "history = pd.DataFrame([[150, 20, 140, 140],\n",
    "                        [140, 31, 152, 150],\n",
    "                        [147, 17, 180, 164],\n",
    "                        [129, 33, 150, 167]],\n",
    "                       columns=['Open', 'Low', 'High', 'Close'],\n",
    "                       index=['2020-12-07', '2020-12-08', '2020-12-09', '2020-12-10'])\n",
    "\n",
    "min_close = history['Close'].min()\n",
    "max_close = history['Close'].max()\n",
    "\n",
    "std_open = history['Open'].std()\n",
    "\n",
    "mean_low = history['Low'].mean()\n",
    "\n",
    "median_high = history['High'].median()\n",
    "\n",
    "print(\"Минимальная цена закрытия:\", min_close)\n",
    "print(\"Максимальная цена закрытия:\", max_close)\n",
    "print(\"Стандартное отклонение цены открытия:\", std_open)\n",
    "print(\"Среднее значение самой низкой цены:\", mean_low)\n",
    "print(\"Медиана самой высокой цены:\", median_high)\n",
    "#mean() для нахождения среднего значения самой низкой цены (Low).\n",
    "#median() для вычисления медианы самой высокой цены (High)."
   ]
  },
  {
   "cell_type": "markdown",
   "metadata": {},
   "source": [
    "# Раздел 2. Извлечение данных по условию\n",
    "\n",
    "### Работа с набором данных *Financial Sample*"
   ]
  },
  {
   "cell_type": "code",
   "execution_count": 2,
   "metadata": {},
   "outputs": [
    {
     "data": {
      "text/html": [
       "<div>\n",
       "<style scoped>\n",
       "    .dataframe tbody tr th:only-of-type {\n",
       "        vertical-align: middle;\n",
       "    }\n",
       "\n",
       "    .dataframe tbody tr th {\n",
       "        vertical-align: top;\n",
       "    }\n",
       "\n",
       "    .dataframe thead th {\n",
       "        text-align: right;\n",
       "    }\n",
       "</style>\n",
       "<table border=\"1\" class=\"dataframe\">\n",
       "  <thead>\n",
       "    <tr style=\"text-align: right;\">\n",
       "      <th></th>\n",
       "      <th>Name</th>\n",
       "      <th>Meaning</th>\n",
       "    </tr>\n",
       "  </thead>\n",
       "  <tbody>\n",
       "    <tr>\n",
       "      <th>0</th>\n",
       "      <td>Segment</td>\n",
       "      <td>Сегмент рынка</td>\n",
       "    </tr>\n",
       "    <tr>\n",
       "      <th>1</th>\n",
       "      <td>Country</td>\n",
       "      <td>Страна</td>\n",
       "    </tr>\n",
       "    <tr>\n",
       "      <th>2</th>\n",
       "      <td>Product</td>\n",
       "      <td>Сделано в</td>\n",
       "    </tr>\n",
       "    <tr>\n",
       "      <th>3</th>\n",
       "      <td>DiscountBand</td>\n",
       "      <td>Группа скидок</td>\n",
       "    </tr>\n",
       "    <tr>\n",
       "      <th>4</th>\n",
       "      <td>UnitsSold</td>\n",
       "      <td>Продано штук</td>\n",
       "    </tr>\n",
       "    <tr>\n",
       "      <th>5</th>\n",
       "      <td>ManufacturingPrice</td>\n",
       "      <td>Цена производства</td>\n",
       "    </tr>\n",
       "    <tr>\n",
       "      <th>6</th>\n",
       "      <td>SalePrice</td>\n",
       "      <td>Цена единицы товара</td>\n",
       "    </tr>\n",
       "    <tr>\n",
       "      <th>7</th>\n",
       "      <td>GrossSales</td>\n",
       "      <td>Валовая продажа</td>\n",
       "    </tr>\n",
       "    <tr>\n",
       "      <th>8</th>\n",
       "      <td>Discounts</td>\n",
       "      <td>Скидка</td>\n",
       "    </tr>\n",
       "    <tr>\n",
       "      <th>9</th>\n",
       "      <td>Sales</td>\n",
       "      <td>Стоимость партии товара</td>\n",
       "    </tr>\n",
       "    <tr>\n",
       "      <th>10</th>\n",
       "      <td>COGS</td>\n",
       "      <td>Себестоимость проданных товаров</td>\n",
       "    </tr>\n",
       "    <tr>\n",
       "      <th>11</th>\n",
       "      <td>Profit</td>\n",
       "      <td>Прибыль</td>\n",
       "    </tr>\n",
       "    <tr>\n",
       "      <th>12</th>\n",
       "      <td>Date</td>\n",
       "      <td>Дата</td>\n",
       "    </tr>\n",
       "    <tr>\n",
       "      <th>13</th>\n",
       "      <td>MonthNumber</td>\n",
       "      <td>Месяц номер</td>\n",
       "    </tr>\n",
       "    <tr>\n",
       "      <th>14</th>\n",
       "      <td>MonthName</td>\n",
       "      <td>Месяц</td>\n",
       "    </tr>\n",
       "    <tr>\n",
       "      <th>15</th>\n",
       "      <td>Year</td>\n",
       "      <td>Год</td>\n",
       "    </tr>\n",
       "  </tbody>\n",
       "</table>\n",
       "</div>"
      ],
      "text/plain": [
       "                  Name                          Meaning\n",
       "0              Segment                    Сегмент рынка\n",
       "1              Country                           Страна\n",
       "2              Product                        Сделано в\n",
       "3         DiscountBand                    Группа скидок\n",
       "4            UnitsSold                     Продано штук\n",
       "5   ManufacturingPrice                Цена производства\n",
       "6            SalePrice              Цена единицы товара\n",
       "7           GrossSales                  Валовая продажа\n",
       "8            Discounts                           Скидка\n",
       "9                Sales          Стоимость партии товара\n",
       "10                COGS  Себестоимость проданных товаров\n",
       "11              Profit                          Прибыль\n",
       "12                Date                             Дата\n",
       "13         MonthNumber                      Месяц номер\n",
       "14           MonthName                            Месяц\n",
       "15                Year                              Год"
      ]
     },
     "execution_count": 2,
     "metadata": {},
     "output_type": "execute_result"
    }
   ],
   "source": [
    "with open('../Data/FinancialSampleFields.csv', encoding='utf-8') as f:\n",
    "  content = f.readlines()\n",
    "  content = [x.replace('\\n','').split(';') for x in content]\n",
    "\n",
    "pd.DataFrame(content[1:],columns = content[0])"
   ]
  },
  {
   "cell_type": "markdown",
   "metadata": {
    "id": "O19QRQijxc8j"
   },
   "source": [
    "### Извлечение данных по условию\n",
    "\n",
    "Использование условий позволяет выбирать только отвечающие условиям данные.\n",
    "\n",
    "Примеры:\n",
    "\n",
    "`fs[fs['SalePrice']>90] # отобрать результаты, для которых цена продажи больше 90`\n",
    "\n",
    "В результате операции сравнения в квадратных скобках создается список из *True* и *False*, который показывает, какие строки *DataFrame* нужно оставить, а какие убрать.\n",
    "\n",
    "`fs[fs['Discounts']>fs['Discounts'].mean()] # результаты, для которых сумма скидок превышает среднюю сумму скидок`\n",
    "\n",
    "Условия можно комбинировать, используя операторы **&** (логическое И) и | (логическое ИЛИ).\n",
    "\n",
    "`fs[(fs['Discounts']>fs['Discounts'].mean()) & (fs['UnitsSold']<fs['UnitsSold'].mean())].sort_values('Country') # сумма скидок выше среднего, продано товара ниже среднего по выборке`\n",
    "\n",
    "`fs[fs['Segment']=='Enterprise']['COGS'].mean() # найти среднюю себестоимость товаров промышленного (Enterprise) сегмента`\n",
    "\n",
    "Проверьте приведенные примеры в своих ноутбуках."
   ]
  },
  {
   "cell_type": "markdown",
   "metadata": {},
   "source": [
    "<p style=\"font-size:125%; color:#119988; background-color:#EEE\">Задание 2.1</p>\n",
    "\n",
    "Загрузите этот набор данных в таблицу *DataFrame*. Какова сумма валовых продаж (GrossSales) товаров, произведеных *Amarilla* для малого бизнеса?"
   ]
  },
  {
   "cell_type": "code",
   "execution_count": 35,
   "metadata": {},
   "outputs": [
    {
     "name": "stdout",
     "output_type": "stream",
     "text": [
      "Index(['Id', 'Segment', 'Country', 'Product', 'DiscountBand', 'UnitsSold',\n",
      "       'ManufacturingPrice', 'SalePrice', 'GrossSales', 'Discounts', 'Sales',\n",
      "       'COGS', 'Profit', 'Date', 'MonthNumber', 'MonthName', 'Year'],\n",
      "      dtype='object')\n",
      "Сумма валовых продаж (GrossSales) товаров, произведенных Amarilla для малого бизнеса: 5024400.0\n"
     ]
    }
   ],
   "source": [
    "import pandas as pd\n",
    "\n",
    "file_path = r\"C:\\Users\\tsoy\\OneDrive\\Рабочий стол\\Data\\FinancialSample3.csv\"\n",
    "fs = pd.read_csv(file_path, encoding='utf-8', delimiter=';')\n",
    "print(fs.columns)\n",
    "\n",
    "amarilla_small_business_sales = fs[(fs['Product'] == 'Amarilla') & (fs['Segment'] == 'Small Business')]['GrossSales'].sum()\n",
    "\n",
    "print(\"Сумма валовых продаж (GrossSales) товаров, произведенных Amarilla для малого бизнеса:\", amarilla_small_business_sales)\n"
   ]
  },
  {
   "cell_type": "markdown",
   "metadata": {},
   "source": [
    "<p style=\"font-size:125%; color:#119988; background-color:#EEE\">Задание 2.2</p>\n",
    "\n",
    "Определите среднюю стоимость производства (ManufacturingPrice) товаров, выпущенных для Мексики стоимостью (SalePrice) выше, чем стоимость 70% товаров."
   ]
  },
  {
   "cell_type": "code",
   "execution_count": 43,
   "metadata": {},
   "outputs": [
    {
     "name": "stdout",
     "output_type": "stream",
     "text": [
      "Index(['Id', 'Segment', 'Country', 'Product', 'DiscountBand', 'UnitsSold',\n",
      "       'ManufacturingPrice', 'SalePrice', 'GrossSales', 'Discounts', 'Sales',\n",
      "       'COGS', 'Profit', 'Date', 'MonthNumber', 'MonthName', 'Year'],\n",
      "      dtype='object')\n",
      "Средняя стоимость производства (ManufacturingPrice) товаров для Мексики со стоимостью (SalePrice) выше 70%: \n",
      " 103.23188405797102\n"
     ]
    }
   ],
   "source": [
    "import pandas as pd\n",
    "\n",
    "file_path = r\"C:\\Users\\tsoy\\OneDrive\\Рабочий стол\\Data\\FinancialSample3.csv\"\n",
    "fs = pd.read_csv(file_path, encoding='utf-8', delimiter=';')\n",
    "\n",
    "print(fs.columns)\n",
    "\n",
    "price_threshold = fs['SalePrice'].quantile(0.7)\n",
    "\n",
    "filtered_data = fs[(fs['Country'] == 'Mexico') & (fs['SalePrice'] > price_threshold)]\n",
    "\n",
    "average_manufacturing_price = filtered_data['ManufacturingPrice'].mean()\n",
    "\n",
    "print(\"Средняя стоимость производства (ManufacturingPrice) товаров для Мексики со стоимостью (SalePrice) выше 70%: \\n\", average_manufacturing_price)\n"
   ]
  },
  {
   "cell_type": "code",
   "execution_count": 29,
   "metadata": {},
   "outputs": [
    {
     "name": "stdout",
     "output_type": "stream",
     "text": [
      "Requirement already satisfied: pandas in c:\\users\\malyk\\anaconda3\\lib\\site-packages (2.1.3)\n",
      "Requirement already satisfied: numpy<2,>=1.23.2 in c:\\users\\malyk\\anaconda3\\lib\\site-packages (from pandas) (1.26.2)\n",
      "Requirement already satisfied: python-dateutil>=2.8.2 in c:\\users\\malyk\\anaconda3\\lib\\site-packages (from pandas) (2.8.2)\n",
      "Requirement already satisfied: pytz>=2020.1 in c:\\users\\malyk\\anaconda3\\lib\\site-packages (from pandas) (2022.7)\n",
      "Requirement already satisfied: tzdata>=2022.1 in c:\\users\\malyk\\anaconda3\\lib\\site-packages (from pandas) (2023.3)\n",
      "Requirement already satisfied: six>=1.5 in c:\\users\\malyk\\anaconda3\\lib\\site-packages (from python-dateutil>=2.8.2->pandas) (1.16.0)\n"
     ]
    }
   ],
   "source": [
    "!pip install --upgrade pandas"
   ]
  },
  {
   "cell_type": "markdown",
   "metadata": {},
   "source": [
    "<p style=\"font-size:125%; color:#119988; background-color:#EEE\">Задание 2.3</p>\n",
    "\n",
    "Найдите минимальную цену производства товара правительственого сегмента, для которого цена продажи ниже цены производства."
   ]
  },
  {
   "cell_type": "code",
   "execution_count": 42,
   "metadata": {},
   "outputs": [
    {
     "name": "stdout",
     "output_type": "stream",
     "text": [
      "Минимальная цена производства товара правительственного сегмента, \n",
      " для которого цена продажи ниже цены производства: 10.0\n"
     ]
    }
   ],
   "source": [
    "import pandas as pd\n",
    "\n",
    "file_path = r\"C:\\Users\\tsoy\\OneDrive\\Рабочий стол\\Data\\FinancialSample3.csv\"\n",
    "fs = pd.read_csv(file_path, encoding='utf-8', delimiter=';')\n",
    "\n",
    "filtered_data = fs[(fs['Segment'] == 'Government') & (fs['SalePrice'] < fs['ManufacturingPrice'])]\n",
    "\n",
    "min_manufacturing_price = filtered_data['ManufacturingPrice'].min()\n",
    "\n",
    "print(\"Минимальная цена производства товара правительственного сегмента, \\n для которого цена продажи ниже цены производства:\", min_manufacturing_price)\n"
   ]
  },
  {
   "cell_type": "markdown",
   "metadata": {},
   "source": [
    "<p style=\"font-size:125%; color:#119988; background-color:#EEE\">Задание 2.4</p>\n",
    "\n",
    "Какова средняя цена товара, стоимость производства которого ниже средней?"
   ]
  },
  {
   "cell_type": "code",
   "execution_count": 37,
   "metadata": {},
   "outputs": [
    {
     "name": "stdout",
     "output_type": "stream",
     "text": [
      "Средняя цена товара, стоимость производства которого ниже средней: 115.9474406991261\n"
     ]
    }
   ],
   "source": [
    "import pandas as pd\n",
    "\n",
    "file_path = r\"C:\\Users\\tsoy\\OneDrive\\Рабочий стол\\Data\\FinancialSample3.csv\"\n",
    "fs = pd.read_csv(file_path, encoding='utf-8', delimiter=';')\n",
    "\n",
    "filtered_data = fs[fs['ManufacturingPrice'] < fs['ManufacturingPrice'].mean()]\n",
    "\n",
    "average_sale_price = filtered_data['SalePrice'].mean()\n",
    "\n",
    "print(\"Средняя цена товара, стоимость производства которого ниже средней:\", average_sale_price)\n"
   ]
  },
  {
   "cell_type": "markdown",
   "metadata": {},
   "source": [
    "<p style=\"font-size:125%; color:#119988; background-color:#EEE\">Задание 2.5</p>\n",
    "\n",
    "Во сколько раз средняя себестоимость (COGS) товаров промышленного сегмента (Enterprize) отличается от средней себестоимости товаров малого бизнеса?"
   ]
  },
  {
   "cell_type": "code",
   "execution_count": 41,
   "metadata": {},
   "outputs": [
    {
     "name": "stdout",
     "output_type": "stream",
     "text": [
      "Средняя себестоимость товаров промышленного сегмента отличается \n",
      " от средней себестоимости товаров малого бизнеса в 0.5714966377808545 раз\n"
     ]
    }
   ],
   "source": [
    "import pandas as pd\n",
    "\n",
    "file_path = r\"C:\\Users\\tsoy\\OneDrive\\Рабочий стол\\Data\\FinancialSample3.csv\"\n",
    "fs = pd.read_csv(file_path, encoding='utf-8', delimiter=';')\n",
    "\n",
    "enterprise_data = fs[fs['Segment'] == 'Enterprise']\n",
    "\n",
    "small_business_data = fs[fs['Segment'] == 'Small Business']\n",
    "\n",
    "average_cogs_enterprise = enterprise_data['COGS'].mean()\n",
    "\n",
    "average_cogs_small_business = small_business_data['COGS'].mean()\n",
    "\n",
    "difference_factor = average_cogs_enterprise / average_cogs_small_business\n",
    "\n",
    "print(\"Средняя себестоимость товаров промышленного сегмента отличается \\n от средней себестоимости товаров малого бизнеса в\", difference_factor, \"раз\")\n"
   ]
  },
  {
   "cell_type": "markdown",
   "metadata": {},
   "source": [
    "<p style=\"font-size:125%; color:#119988; background-color:#EEE\">Задание 2.6</p>\n",
    "\n",
    "Какова суммарная прибыль всех сделок в правительственном сегменте, заключенных компаниями Carretera и Paseo?"
   ]
  },
  {
   "cell_type": "code",
   "execution_count": 44,
   "metadata": {},
   "outputs": [
    {
     "name": "stdout",
     "output_type": "stream",
     "text": [
      "Суммарная прибыль всех сделок в правительственном сегменте, заключенных компаниями Carretera и Paseo: 4528986.045000001\n"
     ]
    }
   ],
   "source": [
    "import pandas as pd\n",
    "\n",
    "file_path = r\"C:\\Users\\tsoy\\OneDrive\\Рабочий стол\\Data\\FinancialSample3.csv\"\n",
    "fs = pd.read_csv(file_path, encoding='utf-8', delimiter=';')\n",
    "\n",
    "filtered_data = fs[(fs['Segment'] == 'Government') & (fs['Product'].isin(['Carretera', 'Paseo']))]\n",
    "\n",
    "total_profit = filtered_data['Profit'].sum()\n",
    "\n",
    "print(\"Суммарная прибыль всех сделок в правительственном сегменте, заключенных компаниями Carretera и Paseo:\", total_profit)\n"
   ]
  },
  {
   "cell_type": "markdown",
   "metadata": {
    "id": "mLSdzFG55hyA"
   },
   "source": [
    "## Раздел 3. Группировка данных\n",
    "\n"
   ]
  },
  {
   "cell_type": "markdown",
   "metadata": {},
   "source": [
    "<p style=\"font-size:125%; color:#119988; background-color:#EEE\">Задание 3.1</p>\n",
    "\n",
    "Сколько разных систем скидок представлено в таблице?"
   ]
  },
  {
   "cell_type": "code",
   "execution_count": 45,
   "metadata": {},
   "outputs": [
    {
     "name": "stdout",
     "output_type": "stream",
     "text": [
      "Количество различных систем скидок в таблице: 5\n"
     ]
    }
   ],
   "source": [
    "import pandas as pd\n",
    "\n",
    "file_path = r\"C:\\Users\\tsoy\\OneDrive\\Рабочий стол\\Data\\FinancialSample3.csv\"\n",
    "fs = pd.read_csv(file_path, encoding='utf-8', delimiter=';')\n",
    "\n",
    "unique_discount_systems = fs['DiscountBand'].nunique()\n",
    "\n",
    "print(\"Количество различных систем скидок в таблице:\", unique_discount_systems)\n",
    "\n",
    "# метод nunique() для подсчета уникальных значений в столбце \"DiscountBand\", \n",
    "# системы скидок"
   ]
  },
  {
   "cell_type": "markdown",
   "metadata": {},
   "source": [
    "<p style=\"font-size:125%; color:#119988; background-color:#EEE\">Задание 3.2</p>\n",
    "\n",
    "Какая из систем скидок применяется реже всего?"
   ]
  },
  {
   "cell_type": "code",
   "execution_count": 46,
   "metadata": {},
   "outputs": [
    {
     "name": "stdout",
     "output_type": "stream",
     "text": [
      "Система скидок, которая применяется реже всего: Green\n"
     ]
    }
   ],
   "source": [
    "import pandas as pd\n",
    "\n",
    "file_path = r\"C:\\Users\\tsoy\\OneDrive\\Рабочий стол\\Data\\FinancialSample3.csv\"\n",
    "fs = pd.read_csv(file_path, encoding='utf-8', delimiter=';')\n",
    "\n",
    "rarest_discount_system = fs['DiscountBand'].value_counts().idxmin()\n",
    "\n",
    "print(\"Система скидок, которая применяется реже всего:\", rarest_discount_system)\n"
   ]
  },
  {
   "cell_type": "markdown",
   "metadata": {},
   "source": [
    "<p style=\"font-size:125%; color:#119988; background-color:#EEE\">Задание 3.3</p>\n",
    "\n",
    "Сколько раз представлены в выборке разные страны?"
   ]
  },
  {
   "cell_type": "code",
   "execution_count": 47,
   "metadata": {},
   "outputs": [
    {
     "name": "stdout",
     "output_type": "stream",
     "text": [
      "Количество различных стран в выборке: 9\n"
     ]
    }
   ],
   "source": [
    "import pandas as pd\n",
    "\n",
    "file_path = r\"C:\\Users\\tsoy\\OneDrive\\Рабочий стол\\Data\\FinancialSample3.csv\"\n",
    "fs = pd.read_csv(file_path, encoding='utf-8', delimiter=';')\n",
    "\n",
    "unique_countries = fs['Country'].nunique()\n",
    "\n",
    "print(\"Количество различных стран в выборке:\", unique_countries)\n"
   ]
  },
  {
   "cell_type": "markdown",
   "metadata": {},
   "source": [
    "<p style=\"font-size:125%; color:#119988; background-color:#EEE\">Задание 3.4</p>\n",
    "\n",
    "Разбейте значения столбца себестоимости (COGS) для Канады на шесть интервалов."
   ]
  },
  {
   "cell_type": "code",
   "execution_count": 49,
   "metadata": {},
   "outputs": [
    {
     "name": "stdout",
     "output_type": "stream",
     "text": [
      "Интервалы для столбца 'COGS' в Канаде:\n",
      "COGS\n",
      "(335.66, 159508.333]        163\n",
      "(159508.333, 317731.667]     19\n",
      "(317731.667, 475955.0]       17\n",
      "(475955.0, 634178.333]        8\n",
      "(634178.333, 792401.667]      4\n",
      "(792401.667, 950625.0]        2\n",
      "Name: count, dtype: int64\n"
     ]
    }
   ],
   "source": [
    "import pandas as pd\n",
    "\n",
    "file_path = r\"C:\\Users\\tsoy\\OneDrive\\Рабочий стол\\Data\\FinancialSample3.csv\"\n",
    "fs = pd.read_csv(file_path, encoding='utf-8', delimiter=';')\n",
    "\n",
    "cogs_canada = fs.loc[fs['Country'] == 'Canada', 'COGS']\n",
    "\n",
    "cogs_intervals = pd.cut(cogs_canada, bins=6)\n",
    "\n",
    "print(\"Интервалы для столбца 'COGS' в Канаде:\")\n",
    "print(cogs_intervals.value_counts())\n"
   ]
  },
  {
   "cell_type": "markdown",
   "metadata": {},
   "source": [
    "<p style=\"font-size:125%; color:#119988; background-color:#EEE\">Задание 3.5</p>\n",
    "\n",
    "Разбейте значения столбца себестоимости (COGS) для Канады на шесть интервалов."
   ]
  },
  {
   "cell_type": "code",
   "execution_count": 50,
   "metadata": {},
   "outputs": [
    {
     "name": "stdout",
     "output_type": "stream",
     "text": [
      "Интервалы для столбца 'COGS' в Канаде:\n",
      "COGS\n",
      "Interval 1    163\n",
      "Interval 2     19\n",
      "Interval 3     17\n",
      "Interval 4      8\n",
      "Interval 5      4\n",
      "Interval 6      2\n",
      "Name: count, dtype: int64\n"
     ]
    }
   ],
   "source": [
    "import pandas as pd\n",
    "\n",
    "file_path = r\"C:\\Users\\tsoy\\OneDrive\\Рабочий стол\\Data\\FinancialSample3.csv\"\n",
    "fs = pd.read_csv(file_path, encoding='utf-8', delimiter=';')\n",
    "\n",
    "cogs_canada = fs.loc[fs['Country'] == 'Canada', 'COGS']\n",
    "\n",
    "cogs_intervals = pd.cut(cogs_canada, bins=6, labels=['Interval 1', 'Interval 2', 'Interval 3', 'Interval 4', 'Interval 5', 'Interval 6'])\n",
    "\n",
    "print(\"Интервалы для столбца 'COGS' в Канаде:\")\n",
    "print(cogs_intervals.value_counts())\n"
   ]
  }
 ],
 "metadata": {
  "colab": {
   "collapsed_sections": [],
   "name": "Тема 8 ГК (запросы) Лекция",
   "provenance": []
  },
  "kernelspec": {
   "display_name": "Python 3 (ipykernel)",
   "language": "python",
   "name": "python3"
  },
  "language_info": {
   "codemirror_mode": {
    "name": "ipython",
    "version": 3
   },
   "file_extension": ".py",
   "mimetype": "text/x-python",
   "name": "python",
   "nbconvert_exporter": "python",
   "pygments_lexer": "ipython3",
   "version": "3.11.4"
  },
  "toc": {
   "base_numbering": 1,
   "nav_menu": {},
   "number_sections": true,
   "sideBar": true,
   "skip_h1_title": false,
   "title_cell": "Table of Contents",
   "title_sidebar": "Contents",
   "toc_cell": true,
   "toc_position": {},
   "toc_section_display": true,
   "toc_window_display": false
  },
  "varInspector": {
   "cols": {
    "lenName": 16,
    "lenType": 16,
    "lenVar": 40
   },
   "kernels_config": {
    "python": {
     "delete_cmd_postfix": "",
     "delete_cmd_prefix": "del ",
     "library": "var_list.py",
     "varRefreshCmd": "print(var_dic_list())"
    },
    "r": {
     "delete_cmd_postfix": ") ",
     "delete_cmd_prefix": "rm(",
     "library": "var_list.r",
     "varRefreshCmd": "cat(var_dic_list()) "
    }
   },
   "types_to_exclude": [
    "module",
    "function",
    "builtin_function_or_method",
    "instance",
    "_Feature"
   ],
   "window_display": false
  }
 },
 "nbformat": 4,
 "nbformat_minor": 4
}
