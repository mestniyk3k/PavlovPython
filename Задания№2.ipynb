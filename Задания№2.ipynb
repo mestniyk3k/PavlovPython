{
 "cells": [
  {
   "cell_type": "markdown",
   "metadata": {
    "toc": true
   },
   "source": [
    "<h1>Table of Contents<span class=\"tocSkip\"></span></h1>\n",
    "<div class=\"toc\"><ul class=\"toc-item\"><li><span><a href=\"#Тема-2.-Строки-и-коллекции-в-языке-Python\" data-toc-modified-id=\"Тема-2.-Строки-и-коллекции-в-языке-Python-1\"><span class=\"toc-item-num\">1&nbsp;&nbsp;</span>Тема 2. Строки и коллекции в языке Python</a></span></li><li><span><a href=\"#Задания\" data-toc-modified-id=\"Задания-2\"><span class=\"toc-item-num\">2&nbsp;&nbsp;</span>Задания</a></span><ul class=\"toc-item\"><li><span><a href=\"#1.3.-Операторы-сравнения.-Логические-операторы.-Инструкция-ветвления-if...else\" data-toc-modified-id=\"1.3.-Операторы-сравнения.-Логические-операторы.-Инструкция-ветвления-if...else-2.1\"><span class=\"toc-item-num\">2.1&nbsp;&nbsp;</span>1.3. Операторы сравнения. Логические операторы. Инструкция ветвления if...else</a></span></li></ul></li></ul></div>"
   ]
  },
  {
   "cell_type": "markdown",
   "metadata": {},
   "source": [
    "\n",
    "# Тема 2. Строки и коллекции в языке Python"
   ]
  },
  {
   "cell_type": "markdown",
   "metadata": {},
   "source": [
    "# Задания\n",
    "\n",
    "Выполните задания\n",
    "\n"
   ]
  },
  {
   "cell_type": "markdown",
   "metadata": {},
   "source": [
    "## 1.3. Операторы сравнения. Логические операторы. Инструкция ветвления if...else\n",
    "\n",
    "1. Определить время года по номеру месяца.\n",
    "2. Определить минимальное значение среди чисел $a, b, c, d$ (не использовать стандартные функции max и min).\n",
    "3. Напишите программу, которая переводит оценку из 100-балльной системы в пятибалльную по правилам, принятым в университете.\n",
    "4. Вычислить значение $F: F=1$, если цифра $7$ входит в запись заданного трехзначного числа, и $0$ – в противном случае.\n",
    "5. Даны два отрезка $[a;b]$ и $[c;d]$. Найдите их пересечение. Если отрезки не пересекаются, то выдайте сообщение.\n",
    "6. По номеру года определите, является ли данный год високосным. (год является високосным, если его номер кратен 4, но не кратен 100, а также если он кратен 400).\n",
    "7. Для отрезков длины a, b, c определить, можно ли из них составить треугольник и является ли этот треугольник прямоугольным.\n",
    "8. Напишите программу для решения уравнения\n",
    "$$ ax^2+bx+c=0 $$\n",
    "Коэффициенты $a, b, c$ могут быть любыми числами. \n",
    "9. Вводится целое число. Выведите его на экран и допишите к нему слова «рубль», «рубля» или «рублей» в зависимости от значения. Алгоритм: \n",
    "- исключение: если число оканчивается на 11, 12, 13 или 14, добавляем слово «рублей»; \n",
    "- если число оканчивается на 1, добавляем слово «рубль»; \n",
    "- если число оканчивается на 2, 3 или 4, добавляем слово «рубля»; \n",
    "- если число оканчивается на цифры 5, 6, 7, 8, 9 или 0, добавляем слово «рублей».\n",
    "\n",
    "10. Пользователь поочередно вводит координаты точки в декартовой системе координат. Определить, какой четверти принадлежит данная точка или на какой оси она находится. Расположение точки вывести на экран. Найти произведение номера четверти на расстояние от этой точки до начала координат и вывести его на экран. Если точка лежит на оси, считать, что номер четверти равен 0.\n",
    "11. Выведите значение заданного целого числа от 0 до 999 прописью. Например, «сто девяносто один» для числа 191, «одиннадцать» для числа 11. \n",
    "12. Вычислите значение выражения, которое состоит из целых чисел и знаков «+» и «-». Выражение вводится как символьная строка.\n",
    "13. Пользователь поочередно вводит 2 строки. Определите, какая строка длиннее и на сколько символов, а какая строка стоит раньше в лексикографическом порядке. Собрать результирующую строку, которая бы содержала 1 и 2 строки, разделенные переносом строки.\n",
    "14. Реализовать калькулятор, который принимает от пользователя через пробел строку следующего вида: «a op b», где a и b – некоторые числа, а ‘op’ определяет оператор и может принимать значения $«+,-,*,/,**,%»$. В зависимости от оператора с помощью форматирования строк вывести результат в виде: «a + b = 3 + 2 = 5», где была получена строка «3 + 2». Для операций возведения в степень и деления по модулю использовать вместо знака оператора соответствующие выражения. Например, для строки «2 ** 3» должно быть выведено «a в степени b = 2 в степени 3 = 8».\n",
    "15. Напишите программу, которая в зависимости от введенного пользователем числа N, осуществляет вывод N кошек на экран. Пусть 1<= N <=10. Примечание: кошки при N=3 выглядят примерно так\n",
    "```\n",
    " /\\__/\\ /\\__/\\ /\\__/\\\n",
    " /@ @\\ /@ @\\ /@ @\\\n",
    " (~~0~~) (~~0~~) (~~0~~)\n",
    "```\n",
    "16. Имеются два n – мерных вектора x и y, которые задают координаты n точек на плоскости (случайные целые числа). Найти наиболее близкие друг другу точки.\n",
    "17. Из множества целых чисел от 1 до N выделить множество N2 числа, кратные 2, множество N3 – кратные 3, множество N 6 – кратные 6 (т.е. кратные и 2 и 3), множество N 23 – кратные либо 2, либо 3.\n",
    "18. Даны m (m>1) слов. Найти общее количество заданной буквы в этих словах.\n",
    "19. Даны m (m>1) слов. В каком из них доля (в %) заданной буквы больше."
   ]
  },
  {
   "cell_type": "markdown",
   "metadata": {},
   "source": [
    "## №1 Определить время года по номеру месяца."
   ]
  },
  {
   "cell_type": "code",
   "execution_count": 4,
   "metadata": {},
   "outputs": [
    {
     "name": "stdout",
     "output_type": "stream",
     "text": [
      "Введите номер месяца: 9\n",
      "Autumn\n"
     ]
    }
   ],
   "source": [
    "a = int(input(\"Введите номер месяца: \"))\n",
    "if a == 1 or a == 2 or a == 12:\n",
    "    print(\"Winter\")\n",
    "elif  a == 3 or a == 4 or a == 5:\n",
    "        print(\"Spring\")\n",
    "elif  a == 6 or a == 7 or a == 8:\n",
    "        print(\"Summer\")\n",
    "elif  a == 9 or a == 10 or a == 11:\n",
    "        print(\"Autumn\")\n",
    "else:\n",
    "    print(\"!!!!\")"
   ]
  },
  {
   "cell_type": "markdown",
   "metadata": {},
   "source": [
    "## №2 Определить минимальное значение среди чисел  𝑎,𝑏,𝑐,𝑑  (не использовать стандартные функции max и min)."
   ]
  },
  {
   "cell_type": "code",
   "execution_count": 11,
   "metadata": {},
   "outputs": [
    {
     "name": "stdout",
     "output_type": "stream",
     "text": [
      "[3, 1, 35, 96]\n"
     ]
    }
   ],
   "source": [
    "def find_minimum(a, b, c, d):\n",
    "    minimum = a  # Пусть начальное значение минимума будет a\n",
    "\n",
    "    if b < minimum:\n",
    "        minimum = b\n",
    "\n",
    "    if c < minimum:\n",
    "        minimum = c\n",
    "\n",
    "    if d < minimum:\n",
    "        minimum = d\n",
    "\n",
    "    return minimum\n",
    "\n",
    "a = float(input(\"Введите значение a: \"))\n",
    "b = float(input(\"Введите значение b: \"))\n",
    "c = float(input(\"Введите значение c: \"))\n",
    "d = float(input(\"Введите значение d: \"))\n",
    "\n",
    "min_value = find_minimum(a, b, c, d)\n",
    "print(\"Минимальное значение: \", min_value)\n"
   ]
  },
  {
   "cell_type": "markdown",
   "metadata": {},
   "source": [
    "## №3 Напишите программу, которая переводит оценку из 100-балльной системы в пятибалльную по правилам, принятым в университете."
   ]
  },
  {
   "cell_type": "code",
   "execution_count": 3,
   "metadata": {},
   "outputs": [
    {
     "name": "stdout",
     "output_type": "stream",
     "text": [
      "Введите оценку (0-100): 56\n",
      "Оценка в пятибалльной системе: 3\n"
     ]
    }
   ],
   "source": [
    "def convert_to_five_point_scale(score):\n",
    "    if score >= 90:\n",
    "        return 5\n",
    "    elif score >= 75:\n",
    "        return 4\n",
    "    elif score >= 50:\n",
    "        return 3\n",
    "    elif score >= 25:\n",
    "        return 2\n",
    "    else:\n",
    "        return 1\n",
    "\n",
    "while True:\n",
    "    try:\n",
    "        score = float(input(\"Введите оценку (0-100): \"))\n",
    "        if score < 0 or score > 100:\n",
    "            raise ValueError(\"Оценка должна быть в диапазоне от 0 до 100.\")\n",
    "        break\n",
    "    except ValueError as e: # обработка исключения \n",
    "        print(f\"Ошибка: {e}\")\n",
    "        continue\n",
    "\n",
    "# Переводим оценку в пятибалльную систему\n",
    "five_point_score = convert_to_five_point_scale(score)\n",
    "\n",
    "print(f\"Оценка в пятибалльной системе: {five_point_score}\")\n"
   ]
  },
  {
   "cell_type": "markdown",
   "metadata": {},
   "source": [
    "## №4 Вычислить значение  𝐹:𝐹=1, если цифра  7 входит в запись заданного трехзначного числа, и  0  – в противном случае."
   ]
  },
  {
   "cell_type": "code",
   "execution_count": 8,
   "metadata": {},
   "outputs": [
    {
     "name": "stdout",
     "output_type": "stream",
     "text": [
      "Введите трехзначное число: 33333\n",
      "Введите трехзначное число!\n",
      "Введите трехзначное число: 4444\n",
      "Введите трехзначное число!\n",
      "Введите трехзначное число: 342\n",
      "Значение F: 0\n"
     ]
    }
   ],
   "source": [
    "def calculate_F(number):\n",
    "    if '7' in str(number):\n",
    "        return 1\n",
    "    else:\n",
    "        return 0\n",
    "\n",
    "while True:\n",
    "    try:\n",
    "        user_input = int(input(\"Введите трехзначное число: \"))\n",
    "        if 100 <= user_input <= 999:\n",
    "            break\n",
    "        else:\n",
    "            print(\"Введите трехзначное число!\")\n",
    "    except ValueError:\n",
    "        print(\"Ошибка: введите целое трехзначное число.\")\n",
    "\n",
    "# Вычисляем F\n",
    "F = calculate_F(user_input)\n",
    "\n",
    "print(\"Значение F:\", F)\n"
   ]
  },
  {
   "cell_type": "markdown",
   "metadata": {},
   "source": [
    "## №5 Даны два отрезка $[a;b]$ и $[c;d]$. Найдите их пересечение. Если отрезки не пересекаются, то выдайте сообщение."
   ]
  },
  {
   "cell_type": "code",
   "execution_count": 13,
   "metadata": {},
   "outputs": [
    {
     "name": "stdout",
     "output_type": "stream",
     "text": [
      "Введите начальное значение для первого отрезка: 4\n",
      "Введите конечное значение для первого отрезка: 8\n",
      "Введите начальное значение для второго отрезка: 2\n",
      "Введите конечное значение для второго отрезка: 6\n",
      "Пересечение отрезков: (4.0, 6.0)\n"
     ]
    }
   ],
   "source": [
    "def find_intersection(a, b, c, d):\n",
    "    start_intersection = max(a, c)\n",
    "    end_intersection = min(b, d)\n",
    "\n",
    "    if start_intersection > end_intersection:\n",
    "        return None  # Отрезки не пересекаются\n",
    "    else:\n",
    "        return start_intersection, end_intersection\n",
    "\n",
    "a = float(input(\"Введите начальное значение для первого отрезка: \"))\n",
    "b = float(input(\"Введите конечное значение для первого отрезка: \"))\n",
    "c = float(input(\"Введите начальное значение для второго отрезка: \"))\n",
    "d = float(input(\"Введите конечное значение для второго отрезка: \"))\n",
    "\n",
    "# Найдем пересечение\n",
    "intersection = find_intersection(a, b, c, d)\n",
    "\n",
    "if intersection:\n",
    "    print(\"Пересечение отрезков:\", intersection)\n",
    "else:\n",
    "    print(\"Отрезки не пересекаются.\")\n"
   ]
  },
  {
   "cell_type": "markdown",
   "metadata": {},
   "source": [
    "## №6 По номеру года определите, является ли данный год високосным. (год является високосным, если его номер кратен 4, но не кратен 100, а также если он кратен 400)."
   ]
  },
  {
   "cell_type": "code",
   "execution_count": 3,
   "metadata": {},
   "outputs": [
    {
     "name": "stdout",
     "output_type": "stream",
     "text": [
      "Введите год: 1;l\n",
      "Ошибка: введите корректный год (целое число).\n",
      "22430940392 год является високосным.\n"
     ]
    }
   ],
   "source": [
    "def is_leap_year(year):\n",
    "    if (year % 4 == 0 and year % 100 != 0) or (year % 400 == 0):\n",
    "        return True\n",
    "    else:\n",
    "        return False\n",
    "\n",
    "try:\n",
    "    year = int(input(\"Введите год: \"))\n",
    "except ValueError:\n",
    "    print(\"Ошибка: введите корректный год (целое число).\")\n",
    "    exit()\n",
    "\n",
    "if is_leap_year(year):\n",
    "    print(f\"{year} год является високосным.\")\n",
    "else:\n",
    "    print(f\"{year} год не является високосным.\")\n"
   ]
  },
  {
   "cell_type": "markdown",
   "metadata": {},
   "source": [
    "## №7 Для отрезков длины a, b, c определить, можно ли из них составить треугольник и является ли этот треугольник прямоугольным\n"
   ]
  },
  {
   "cell_type": "code",
   "execution_count": 2,
   "metadata": {},
   "outputs": [
    {
     "name": "stdout",
     "output_type": "stream",
     "text": [
      "Введите длину первого отрезка: 29\n",
      "Введите длину второго отрезка: 0\n",
      "Введите длину третьего отрезка: 3\n",
      "Из данных отрезков нельзя составить треугольник.\n"
     ]
    }
   ],
   "source": [
    "def is_triangle(a, b, c): \n",
    "    if a + b > c and a + c > b and b + c > a:\n",
    "        return True\n",
    "    else:\n",
    "        return False\n",
    "\n",
    "def is_right_triangle(a, b, c):\n",
    "   # Проверка на прямоугольный треугольник\n",
    "    sides = [a, b, c]\n",
    "    sides.sort()\n",
    "    if sides[0] ** 2 + sides[1] ** 2 == sides[2] ** 2:\n",
    "        return True\n",
    "    else:\n",
    "        return False\n",
    "\n",
    "\n",
    "try:\n",
    "    a = float(input(\"Введите длину первого отрезка: \"))\n",
    "    b = float(input(\"Введите длину второго отрезка: \"))\n",
    "    c = float(input(\"Введите длину третьего отрезка: \"))\n",
    "except ValueError:\n",
    "    print(\"Ошибка: введите корректные длины отрезков (числа).\")\n",
    "    exit()\n",
    "\n",
    "if is_triangle(a, b, c):\n",
    "    print(\"Из данных отрезков можно составить треугольник.\")\n",
    "    \n",
    "    if is_right_triangle(a, b, c):\n",
    "        print(\"Треугольник является прямоугольным.\")\n",
    "    else:\n",
    "        print(\"Треугольник не является прямоугольным.\")\n",
    "else:\n",
    "    print(\"Из данных отрезков нельзя составить треугольник.\")\n"
   ]
  },
  {
   "cell_type": "markdown",
   "metadata": {},
   "source": [
    "## №8  Напишите программу для решения уравнения$$ ax^2+bx+c=0 $$"
   ]
  },
  {
   "cell_type": "code",
   "execution_count": 15,
   "metadata": {},
   "outputs": [
    {
     "name": "stdout",
     "output_type": "stream",
     "text": [
      "Введите коэффициент a: 1\n",
      "Введите коэффициент b: 5\n",
      "Введите коэффициент c: 2\n",
      "Корень 1: (-0.4384471871911697+0j)\n",
      "Корень 2: (-4.561552812808831+0j)\n"
     ]
    }
   ],
   "source": [
    "import cmath \n",
    "\n",
    "def solve_quadratic_equation(a, b, c):\n",
    "    discriminant = cmath.sqrt(b**2 - 4*a*c)\n",
    "    \n",
    "    x1 = (-b + discriminant) / (2*a)\n",
    "    x2 = (-b - discriminant) / (2*a)\n",
    "    \n",
    "    return x1, x2\n",
    "\n",
    "try:\n",
    "    a = float(input(\"Введите коэффициент a: \"))\n",
    "    b = float(input(\"Введите коэффициент b: \"))\n",
    "    c = float(input(\"Введите коэффициент c: \"))\n",
    "except ValueError:\n",
    "    print(\"Ошибка: введите корректные коэффициенты (числа).\")\n",
    "    exit()\n",
    "\n",
    "if b**2 - 4*a*c < 0:\n",
    "    print(\"Уравнение не имеет действительных корней.\")\n",
    "else:\n",
    "    root1, root2 = solve_quadratic_equation(a, b, c)\n",
    "    print(\"Корень 1:\", root1)\n",
    "    print(\"Корень 2:\", root2)\n"
   ]
  },
  {
   "cell_type": "markdown",
   "metadata": {},
   "source": [
    "## 9. Вводится целое число. Выведите его на экран и допишите к нему слова «рубль», «рубля» или «рублей» в зависимости от значения. Алгоритм: \n",
    "- исключение: если число оканчивается на 11, 12, 13 или 14, добавляем слово «рублей»; \n",
    "- если число оканчивается на 1, добавляем слово «рубль»; \n",
    "- если число оканчивается на 2, 3 или 4, добавляем слово «рубля»; \n",
    "- если число оканчивается на цифры 5, 6, 7, 8, 9 или 0, добавляем слово «рублей»."
   ]
  },
  {
   "cell_type": "code",
   "execution_count": 17,
   "metadata": {},
   "outputs": [
    {
     "name": "stdout",
     "output_type": "stream",
     "text": [
      "Введите целое число: 100\n",
      "Результат: 100 рублей\n"
     ]
    }
   ],
   "source": [
    "def add_ruble_word(num):\n",
    "    # Определение последней цифры\n",
    "    last_digit = num % 10\n",
    "    \n",
    "    # Правила добавления слова \"рубль\", \"рубля\" или \"рублей\"\n",
    "    if num % 100 in [11, 12, 13, 14]:\n",
    "        return f\"{num} рублей\"\n",
    "    elif last_digit == 1:\n",
    "        return f\"{num} рубль\"\n",
    "    elif last_digit in [2, 3, 4]:\n",
    "        return f\"{num} рубля\"\n",
    "    else:\n",
    "        return f\"{num} рублей\"\n",
    "\n",
    "try:\n",
    "    number = int(input(\"Введите целое число: \"))\n",
    "except ValueError:\n",
    "    print(\"Ошибка: введите корректное целое число.\")\n",
    "    exit()\n",
    "result = add_ruble_word(number)\n",
    "print(\"Результат:\", result)\n"
   ]
  },
  {
   "cell_type": "markdown",
   "metadata": {},
   "source": [
    "## 10. Пользователь поочередно вводит координаты точки в декартовой системе координат. Определить, какой четверти принадлежит данная точка или на какой оси она находится. Расположение точки вывести на экран. Найти произведение номера четверти на расстояние от этой точки до начала координат и вывести его на экран. Если точка лежит на оси, считать, что номер четверти равен 0."
   ]
  },
  {
   "cell_type": "code",
   "execution_count": 19,
   "metadata": {},
   "outputs": [
    {
     "name": "stdout",
     "output_type": "stream",
     "text": [
      "Введите координату x: 4gg\n",
      "Ошибка: введите корректные координаты.\n",
      "Расположение точки: Четверть 1\n",
      "Произведение номера четверти на расстояние: 4.47213595499958\n"
     ]
    }
   ],
   "source": [
    "import math\n",
    "\n",
    "def determine_quarter(x, y):\n",
    "    # Определение четверти\n",
    "    if x > 0 and y > 0:\n",
    "        return 1\n",
    "    elif x < 0 and y > 0:\n",
    "        return 2\n",
    "    elif x < 0 and y < 0:\n",
    "        return 3\n",
    "    elif x > 0 and y < 0:\n",
    "        return 4\n",
    "    else:\n",
    "        return 0  # Точка находится на оси\n",
    "\n",
    "try:\n",
    "    x = float(input(\"Введите координату x: \"))\n",
    "    y = float(input(\"Введите координату y: \"))\n",
    "except ValueError:\n",
    "    print(\"Ошибка: введите корректные координаты.\")\n",
    "    exit()\n",
    "\n",
    "# Определение четверти, в которой находится точка\n",
    "quarter = determine_quarter(x, y)\n",
    "\n",
    "# Расстояние от начала координат до точки\n",
    "distance = math.sqrt(x**2 + y**2)\n",
    "\n",
    "\n",
    "print(\"Расположение точки:\", end=\" \")\n",
    "if quarter == 0:\n",
    "    print(\"На оси\")\n",
    "else:\n",
    "    print(f\"Четверть {quarter}\")\n",
    "print(\"Произведение номера четверти на расстояние:\", quarter * distance)\n"
   ]
  },
  {
   "cell_type": "markdown",
   "metadata": {},
   "source": [
    "## 11. Выведите значение заданного целого числа от 0 до 999 прописью. Например, «сто девяносто один» для числа 191, «одиннадцать» для числа 11. \n"
   ]
  },
  {
   "cell_type": "code",
   "execution_count": null,
   "metadata": {},
   "outputs": [],
   "source": []
  },
  {
   "cell_type": "markdown",
   "metadata": {},
   "source": [
    "## 12. Вычислите значение выражения, которое состоит из целых чисел и знаков «+» и «-». Выражение вводится как символьная строка."
   ]
  },
  {
   "cell_type": "code",
   "execution_count": null,
   "metadata": {},
   "outputs": [],
   "source": []
  },
  {
   "cell_type": "markdown",
   "metadata": {},
   "source": [
    "##  13. Пользователь поочередно вводит 2 строки. Определите, какая строка длиннее и на сколько символов, а какая строка стоит раньше в лексикографическом порядке. Собрать результирующую строку, которая бы содержала 1 и 2 строки, разделенные переносом строки."
   ]
  },
  {
   "cell_type": "code",
   "execution_count": 1,
   "metadata": {},
   "outputs": [
    {
     "name": "stdout",
     "output_type": "stream",
     "text": [
      "Введите первую строку: как у тебя дела\n",
      "Введите вторую строку: что делаешь\n",
      "Результат:\n",
      "Первая строка: как у тебя дела\n",
      "Длина первой строки: 15 символов\n",
      "Вторая строка: что делаешь\n",
      "Длина второй строки: 11 символов\n",
      "Разница в длине: 4 символ(ов)\n",
      "Сравнение в лексикографическом порядке: Первая строка лексикографически меньше\n"
     ]
    }
   ],
   "source": [
    "def compare_strings(str1, str2):\n",
    "    # Определение длин строк\n",
    "    len1 = len(str1)\n",
    "    len2 = len(str2)\n",
    "\n",
    "    # Определение того, какая строка длиннее и на сколько символов\n",
    "    length_difference = abs(len1 - len2)\n",
    "\n",
    "    # Сравнение строк в лексикографическом порядке\n",
    "    lex_comparison = \"Первая строка лексикографически меньше\" if str1 < str2 else \"Вторая строка лексикографически меньше\"\n",
    "\n",
    "    # Собираем результирующую строку\n",
    "    result_string = f\"Первая строка: {str1}\\nДлина первой строки: {len1} символов\\n\"\n",
    "    result_string += f\"Вторая строка: {str2}\\nДлина второй строки: {len2} символов\\n\"\n",
    "    result_string += f\"Разница в длине: {length_difference} символ(ов)\\n\"\n",
    "    result_string += f\"Сравнение в лексикографическом порядке: {lex_comparison}\"\n",
    "\n",
    "    return result_string\n",
    "\n",
    "str1 = input(\"Введите первую строку: \")\n",
    "str2 = input(\"Введите вторую строку: \")\n",
    "\n",
    "# Вызываем функцию для сравнения строк и создания результирующей строки\n",
    "result = compare_strings(str1, str2)\n",
    "\n",
    "print(\"Результат:\")\n",
    "print(result)\n"
   ]
  },
  {
   "cell_type": "markdown",
   "metadata": {},
   "source": [
    "## 14. Реализовать калькулятор, который принимает от пользователя через пробел строку следующего вида: «a op b», где a и b – некоторые числа, а ‘op’ определяет оператор и может принимать значения $«+,-,*,/,**,%»$. В зависимости от оператора с помощью форматирования строк вывести результат в виде: «a + b = 3 + 2 = 5», где была получена строка «3 + 2». Для операций возведения в степень и деления по модулю использовать вместо знака оператора соответствующие выражения. Например, для строки «2 ** 3» должно быть выведено «a в степени b = 2 в степени 3 = 8»."
   ]
  },
  {
   "cell_type": "code",
   "execution_count": 3,
   "metadata": {},
   "outputs": [
    {
     "name": "stdout",
     "output_type": "stream",
     "text": [
      "Введите выражение (например, 'a op b'): 3 * 5\n",
      "Результат: 3.0 * 5.0 = 3.0 * 5.0 = 15.0\n"
     ]
    }
   ],
   "source": [
    "def calculator(expression):\n",
    "    # Разбиваем строку на операнды и оператор\n",
    "    parts = expression.split()\n",
    "    if len(parts) != 3:\n",
    "        return \"Некорректный формат. Используйте: a оператор b\"\n",
    "\n",
    "    a = float(parts[0])\n",
    "    op = parts[1]\n",
    "    b = float(parts[2])\n",
    "\n",
    "    result = 0\n",
    "\n",
    "    # Выполняем операцию в зависимости от оператора\n",
    "    if op == '+':\n",
    "        result = a + b\n",
    "    elif op == '-':\n",
    "        result = a - b\n",
    "    elif op == '*':\n",
    "        result = a * b\n",
    "    elif op == '/':\n",
    "        if b == 0:\n",
    "            return \"Деление на ноль недопустимо\"\n",
    "        result = a / b\n",
    "    elif op == '**':\n",
    "        result = a ** b\n",
    "    elif op == '%':\n",
    "        result = a % b\n",
    "    else:\n",
    "        return \"Неподдерживаемый оператор. Используйте: +, -, *, /, **, %\"\n",
    "\n",
    "    # Формируем строку с результатом\n",
    "    result_string = f\"{a} {op} {b} = {a} {op} {b} = {result}\"\n",
    "\n",
    "    return result_string\n",
    "\n",
    "\n",
    "expression = input(\"Введите выражение (например, 'a op b'): \")\n",
    "\n",
    "result = calculator(expression)\n",
    "print(\"Результат:\", result)\n"
   ]
  },
  {
   "cell_type": "markdown",
   "metadata": {},
   "source": [
    "## 15. Напишите программу, которая в зависимости от введенного пользователем числа N, осуществляет вывод N кошек на экран. Пусть 1<= N <=10. Примечание: кошки при N=3 выглядят примерно так\n",
    "```\n",
    " /\\__/\\ /\\__/\\ /\\__/\\\n",
    " /@ @\\ /@ @\\ /@ @\\\n",
    " (~~0~~) (~~0~~) (~~0~~)\n",
    "```"
   ]
  },
  {
   "cell_type": "code",
   "execution_count": 6,
   "metadata": {},
   "outputs": [
    {
     "name": "stdout",
     "output_type": "stream",
     "text": [
      "Введите число N (1<= N <=10): 6\n",
      "\n",
      "/\\__/\\   / \\_/ \\   /\\__/\\  \n",
      "/ @   @\\  > . . <  / @   @\\ \n",
      "( =Y= ) /       \\ ( =Y= )\n",
      " /`-!-'`/         \\`-!-'\\\n",
      "\n",
      "\n",
      "/\\__/\\   / \\_/ \\   /\\__/\\  \n",
      "/ @   @\\  > . . <  / @   @\\ \n",
      "( =Y= ) /       \\ ( =Y= )\n",
      " /`-!-'`/         \\`-!-'\\\n",
      "\n",
      "\n",
      "/\\__/\\   / \\_/ \\   /\\__/\\  \n",
      "/ @   @\\  > . . <  / @   @\\ \n",
      "( =Y= ) /       \\ ( =Y= )\n",
      " /`-!-'`/         \\`-!-'\\\n",
      "\n",
      "\n",
      "/\\__/\\   / \\_/ \\   /\\__/\\  \n",
      "/ @   @\\  > . . <  / @   @\\ \n",
      "( =Y= ) /       \\ ( =Y= )\n",
      " /`-!-'`/         \\`-!-'\\\n",
      "\n",
      "\n",
      "/\\__/\\   / \\_/ \\   /\\__/\\  \n",
      "/ @   @\\  > . . <  / @   @\\ \n",
      "( =Y= ) /       \\ ( =Y= )\n",
      " /`-!-'`/         \\`-!-'\\\n",
      "\n",
      "\n",
      "/\\__/\\   / \\_/ \\   /\\__/\\  \n",
      "/ @   @\\  > . . <  / @   @\\ \n",
      "( =Y= ) /       \\ ( =Y= )\n",
      " /`-!-'`/         \\`-!-'\\\n",
      "\n"
     ]
    }
   ],
   "source": [
    "def print_cats(n):\n",
    "    cat_pattern = r\"\"\"\n",
    "/\\__/\\   / \\_/ \\   /\\__/\\  \n",
    "/ @   @\\  > . . <  / @   @\\ \n",
    "( =Y= ) /       \\ ( =Y= )\n",
    " /`-!-'`/         \\`-!-'\\\n",
    "\"\"\"\n",
    "    for _ in range(n):\n",
    "        print(cat_pattern)\n",
    "\n",
    "try:\n",
    "    N = int(input(\"Введите число N (1<= N <=10): \"))\n",
    "    if not (1 <= N <= 10):\n",
    "        raise ValueError(\"Число должно быть от 1 до 10.\")\n",
    "except ValueError as e:\n",
    "    print(f\"Ошибка: {e}\")\n",
    "    exit()\n",
    "    \n",
    "print_cats(N)\n"
   ]
  },
  {
   "cell_type": "markdown",
   "metadata": {},
   "source": [
    "## 16. Имеются два n – мерных вектора x и y, которые задают координаты n точек на плоскости (случайные целые числа). Найти наиболее близкие друг другу точки."
   ]
  },
  {
   "cell_type": "code",
   "execution_count": null,
   "metadata": {},
   "outputs": [],
   "source": []
  },
  {
   "cell_type": "markdown",
   "metadata": {},
   "source": [
    "## 17. Из множества целых чисел от 1 до N выделить множество N2 числа, кратные 2, множество N3 – кратные 3, множество N 6 – кратные 6 (т.е. кратные и 2 и 3), множество N 23 – кратные либо 2, либо 3."
   ]
  },
  {
   "cell_type": "code",
   "execution_count": null,
   "metadata": {},
   "outputs": [],
   "source": []
  },
  {
   "cell_type": "markdown",
   "metadata": {},
   "source": [
    "## 18. Даны m (m>1) слов. Найти общее количество заданной буквы в этих словах.\n"
   ]
  },
  {
   "cell_type": "code",
   "execution_count": 8,
   "metadata": {},
   "outputs": [
    {
     "name": "stdout",
     "output_type": "stream",
     "text": [
      "Введите слова, разделенные пробелами: как арбуз геля вода мем сука\n",
      "Введите букву для подсчета вхождений: а\n",
      "Общее количество буквы 'а' в заданных словах: 4\n"
     ]
    }
   ],
   "source": [
    "def count_letter_occurrences(words, target_letter):\n",
    "    total_occurrences = 0\n",
    "\n",
    "    for word in words:\n",
    "        for letter in word:\n",
    "            if letter.lower() == target_letter.lower():\n",
    "                total_occurrences += 1\n",
    "\n",
    "    return total_occurrences\n",
    "\n",
    "words = input(\"Введите слова, разделенные пробелами: \").split()\n",
    "\n",
    "target_letter = input(\"Введите букву для подсчета вхождений: \")\n",
    "\n",
    "# Проверяем, что введена только одна буква\n",
    "if len(target_letter) != 1 or not target_letter.isalpha():\n",
    "    print(\"Введите только одну букву.\")\n",
    "    exit()\n",
    "\n",
    "# Находим общее количество вхождений заданной буквы\n",
    "occurrences = count_letter_occurrences(words, target_letter)\n",
    "\n",
    "print(f\"Общее количество буквы '{target_letter}' в заданных словах: {occurrences}\")\n"
   ]
  },
  {
   "cell_type": "markdown",
   "metadata": {},
   "source": [
    "## 19. Даны m (m>1) слов. В каком из них доля (в %) заданной буквы больше.\n",
    "\n"
   ]
  },
  {
   "cell_type": "code",
   "execution_count": 9,
   "metadata": {},
   "outputs": [
    {
     "name": "stdout",
     "output_type": "stream",
     "text": [
      "Введите слова, разделенные пробелами: как арбуз геля нфт вов кек путин\n",
      "Введите букву для подсчета доли: в\n",
      "Слово с наибольшей долей буквы 'в': вов\n",
      "Доля буквы 'в' в этом слове: 66.67%\n"
     ]
    }
   ],
   "source": [
    "def calculate_letter_percentage(word, target_letter):\n",
    "    # Подсчет количества букв и целевой буквы в слове\n",
    "    total_letters = len(word)\n",
    "    target_letter_count = sum(1 for letter in word if letter.lower() == target_letter.lower())\n",
    "\n",
    "    # Рассчитываем процент буквы в слове\n",
    "    percentage = (target_letter_count / total_letters) * 100\n",
    "    return percentage\n",
    "\n",
    "words = input(\"Введите слова, разделенные пробелами: \").split()\n",
    "\n",
    "target_letter = input(\"Введите букву для подсчета доли: \")\n",
    "\n",
    "if len(target_letter) != 1 or not target_letter.isalpha():\n",
    "    print(\"Введите только одну букву.\")\n",
    "    exit()\n",
    "\n",
    "max_percentage = 0\n",
    "word_with_max_percentage = ''\n",
    "\n",
    "# Находим слово с наибольшей долей заданной буквы\n",
    "for word in words:\n",
    "    percentage = calculate_letter_percentage(word, target_letter)\n",
    "    if percentage > max_percentage:\n",
    "        max_percentage = percentage\n",
    "        word_with_max_percentage = word\n",
    "\n",
    "print(f\"Слово с наибольшей долей буквы '{target_letter}': {word_with_max_percentage}\")\n",
    "print(f\"Доля буквы '{target_letter}' в этом слове: {max_percentage:.2f}%\")\n"
   ]
  },
  {
   "cell_type": "code",
   "execution_count": null,
   "metadata": {},
   "outputs": [],
   "source": []
  }
 ],
 "metadata": {
  "kernelspec": {
   "display_name": "Python 3 (ipykernel)",
   "language": "python",
   "name": "python3"
  },
  "language_info": {
   "codemirror_mode": {
    "name": "ipython",
    "version": 3
   },
   "file_extension": ".py",
   "mimetype": "text/x-python",
   "name": "python",
   "nbconvert_exporter": "python",
   "pygments_lexer": "ipython3",
   "version": "3.11.5"
  },
  "toc": {
   "base_numbering": 1,
   "nav_menu": {},
   "number_sections": true,
   "sideBar": true,
   "skip_h1_title": false,
   "title_cell": "Table of Contents",
   "title_sidebar": "Contents",
   "toc_cell": true,
   "toc_position": {},
   "toc_section_display": true,
   "toc_window_display": false
  },
  "varInspector": {
   "cols": {
    "lenName": 16,
    "lenType": 16,
    "lenVar": 40
   },
   "kernels_config": {
    "python": {
     "delete_cmd_postfix": "",
     "delete_cmd_prefix": "del ",
     "library": "var_list.py",
     "varRefreshCmd": "print(var_dic_list())"
    },
    "r": {
     "delete_cmd_postfix": ") ",
     "delete_cmd_prefix": "rm(",
     "library": "var_list.r",
     "varRefreshCmd": "cat(var_dic_list()) "
    }
   },
   "types_to_exclude": [
    "module",
    "function",
    "builtin_function_or_method",
    "instance",
    "_Feature"
   ],
   "window_display": false
  }
 },
 "nbformat": 4,
 "nbformat_minor": 4
}
